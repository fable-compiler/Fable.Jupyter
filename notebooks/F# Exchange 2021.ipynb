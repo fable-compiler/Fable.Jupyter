{
 "cells": [
  {
   "cell_type": "markdown",
   "id": "b3ef92a1",
   "metadata": {
    "slideshow": {
     "slide_type": "slide"
    }
   },
   "source": [
    "<img src=\"https://fsharp.org/img/logo/fsharp256.png\" style=\"float:right; margin:auto\" width=\"200px\">\n",
    "\n",
    "# Fable Python\n",
    "\n",
    "|> F# ♥️ Python\n",
    "\n",
    "Dag Brattli  \n",
    "Principal Software Engineer  \n",
    "Cognite, https://cognite.com  \n",
    "\n",
    "<img src=\"https://fable.io/static/img/fable_logo.png\" style=\"float:left; margin:auto\" width=\"200px\">\n",
    "<img src=\"https://upload.wikimedia.org/wikipedia/commons/thumb/c/c3/Python-logo-notext.svg/1024px-Python-logo-notext.svg.png\" style=\"float:right; margin:auto\" width=\"200px\">"
   ]
  },
  {
   "cell_type": "markdown",
   "id": "5ada688b",
   "metadata": {
    "slideshow": {
     "slide_type": "slide"
    }
   },
   "source": [
    "# Who am I?\n",
    "\n",
    "- A Python programmer in love with F#\n",
    "- Programming Python since 1995\n",
    "    - [RxPY](https://github.com/ReactiveX/RxPY), Reactive Extensions for Python\n",
    "    - [Expression](https://github.com/cognitedata/expression), Pragmatic functional programming for Python inspired by F#\n",
    "- Programming F# since 2018\n",
    "    - [Oryx](https://github.com/cognitedata/oryx), Composable middleware for building web request handlers in F# \n",
    "    - [AsyncRx](https://github.com/dbrattli/asyncrx), for F# and Fable\n",
    "    - [Fable.Reaction](https://github.com/dbrattli/fable.reaction), AsyncRx for Elmish\n",
    "- Microsoft Alumni (FAST, Outlook, Office Division)\n",
    "- Work for Cognite, https://cognite.com"
   ]
  },
  {
   "cell_type": "markdown",
   "id": "acfee1e7",
   "metadata": {
    "slideshow": {
     "slide_type": "slide"
    }
   },
   "source": [
    "# Why?\n",
    "\n",
    "> ... on a quest to bridge the worlds of F# and Python 🌉\n",
    "\n",
    "- Python and F# look similar in many ways (no braces or semicolons)\n",
    "- F# have superior type system and type inference, combined with pipelining, pattern matching, computational expressions\n",
    "- I didn’t select this project, the project selected me ✨ It’s a fun weekend project! 😊 \n",
    "\n",
    "- Can we make F# a better Python? Could we reduce the friction of using F#?"
   ]
  },
  {
   "cell_type": "markdown",
   "id": "3de45712",
   "metadata": {
    "slideshow": {
     "slide_type": "slide"
    }
   },
   "source": [
    "# Python \n",
    "\n",
    "October 2021: Python ends C and Java's 20-year reign atop the TIOBE index\n",
    "\n",
    "<img src=\"https://www.techrepublic.com/a/hub/i/r/2021/10/11/9529e5f5-503a-4327-8f57-41bb631e880e/resize/770x/9be188fdd9d426b0afdc317849f07c54/tiobe-oct21.jpg\" style=\"float:right; margin:auto\" width=\"100%\">"
   ]
  },
  {
   "cell_type": "markdown",
   "id": "f59e97a1",
   "metadata": {
    "slideshow": {
     "slide_type": "slide"
    }
   },
   "source": [
    "# Python (the good parts)\n",
    "\n",
    "<img src=\"https://upload.wikimedia.org/wikipedia/commons/thumb/c/c3/Python-logo-notext.svg/1024px-Python-logo-notext.svg.png\" style=\"float:right; margin:auto\" width=\"100px\">\n",
    "\n",
    "- Python is the **top 1** popular language in the world! \n",
    "- Python is **easy to use**! The low friction makes Python a **popular choice** for **new developers**\n",
    "- Python is also the **de-facto** language for **data science** \n",
    "- SciPy stack consisting of libraries such as Pandas, NumPy, SciPy, Matplotlib, and Jupyter\n",
    "- Available on **any platform** (pre-installed)\n"
   ]
  },
  {
   "cell_type": "markdown",
   "id": "87fed5c6",
   "metadata": {
    "slideshow": {
     "slide_type": "slide"
    }
   },
   "source": [
    "# Python (the not so good parts)\n",
    "\n",
    "- ~10 times **slower** than most compiled languages. But in most cases it doesn't really matter\n",
    "- Dynamic typing makes it **hard to detect bugs, and refactor** code\n",
    "- Optional type hints looks ugly and messes up the language\n",
    "- Static **type checkers** like mypy and pyright **break your code** base with every new release\n",
    "- Eventually you spend all your time **fixing typing** issues 🤯"
   ]
  },
  {
   "cell_type": "markdown",
   "id": "85a0db33",
   "metadata": {
    "slideshow": {
     "slide_type": "slide"
    }
   },
   "source": [
    "# First Try: Expression\n",
    "\n",
    "- Pragmatic functional programming for Python inspired by F#\n",
    "- Python Library that gives you (a few) F# powers\n",
    "- Option, Result, List, Map and Seq modules with type hints\n",
    "- Map implementation ported from F#\n",
    "- Pipe function, MailboxProcessor, ...\n",
    "\n",
    "```py\n",
    "xs = Seq.of(1, 2, 3)\n",
    "ys = pipe(xs,\n",
    "    seq.map(lambda x: x * 100),\n",
    "    seq.filter(lambda x: x > 100),\n",
    "    seq.fold(lambda s, x: s + x, 0),\n",
    ")\n",
    "```\n",
    "\n",
    "https://github.com/cognitedata/Expression (138 stars)"
   ]
  },
  {
   "cell_type": "markdown",
   "id": "27de544a",
   "metadata": {
    "slideshow": {
     "slide_type": "slide"
    }
   },
   "source": [
    "# Second Try: Fable Python\n",
    "\n",
    "- Fable F# to Python transpiler (compiler)\n",
    "- Tries to follow [PEP-8](https://www.python.org/dev/peps/pep-0008/) style guide i.e `snake_case` method names\n",
    "- Fable.Library makes parts of .NET available\n",
    "- Fable.Python makes parts of Python available\n",
    "- Python package and module imports (absolute for Exe, relative for Library)\n",
    "- Currently produces Python code without type hints"
   ]
  },
  {
   "cell_type": "code",
   "execution_count": 2,
   "id": "93b85976",
   "metadata": {},
   "outputs": [
    {
     "name": "stdout",
     "output_type": "stream",
     "text": [
      "This is 10\n"
     ]
    }
   ],
   "source": [
    "let a = Some 10\n",
    "match a with\n",
    "| Some value ->    \n",
    "    printfn $\"This is {value}\"\n",
    "| None -> ()"
   ]
  },
  {
   "cell_type": "code",
   "execution_count": 3,
   "id": "38a22240",
   "metadata": {},
   "outputs": [
    {
     "data": {
      "text/html": [
       "<style>pre { line-height: 125%; }\n",
       "td.linenos .normal { color: inherit; background-color: transparent; padding-left: 5px; padding-right: 5px; }\n",
       "span.linenos { color: inherit; background-color: transparent; padding-left: 5px; padding-right: 5px; }\n",
       "td.linenos .special { color: #000000; background-color: #ffffc0; padding-left: 5px; padding-right: 5px; }\n",
       "span.linenos.special { color: #000000; background-color: #ffffc0; padding-left: 5px; padding-right: 5px; }\n",
       ".output_html .hll { background-color: #ffffcc }\n",
       ".output_html { background: #f8f8f8; }\n",
       ".output_html .c { color: #408080; font-style: italic } /* Comment */\n",
       ".output_html .err { border: 1px solid #FF0000 } /* Error */\n",
       ".output_html .k { color: #008000; font-weight: bold } /* Keyword */\n",
       ".output_html .o { color: #666666 } /* Operator */\n",
       ".output_html .ch { color: #408080; font-style: italic } /* Comment.Hashbang */\n",
       ".output_html .cm { color: #408080; font-style: italic } /* Comment.Multiline */\n",
       ".output_html .cp { color: #BC7A00 } /* Comment.Preproc */\n",
       ".output_html .cpf { color: #408080; font-style: italic } /* Comment.PreprocFile */\n",
       ".output_html .c1 { color: #408080; font-style: italic } /* Comment.Single */\n",
       ".output_html .cs { color: #408080; font-style: italic } /* Comment.Special */\n",
       ".output_html .gd { color: #A00000 } /* Generic.Deleted */\n",
       ".output_html .ge { font-style: italic } /* Generic.Emph */\n",
       ".output_html .gr { color: #FF0000 } /* Generic.Error */\n",
       ".output_html .gh { color: #000080; font-weight: bold } /* Generic.Heading */\n",
       ".output_html .gi { color: #00A000 } /* Generic.Inserted */\n",
       ".output_html .go { color: #888888 } /* Generic.Output */\n",
       ".output_html .gp { color: #000080; font-weight: bold } /* Generic.Prompt */\n",
       ".output_html .gs { font-weight: bold } /* Generic.Strong */\n",
       ".output_html .gu { color: #800080; font-weight: bold } /* Generic.Subheading */\n",
       ".output_html .gt { color: #0044DD } /* Generic.Traceback */\n",
       ".output_html .kc { color: #008000; font-weight: bold } /* Keyword.Constant */\n",
       ".output_html .kd { color: #008000; font-weight: bold } /* Keyword.Declaration */\n",
       ".output_html .kn { color: #008000; font-weight: bold } /* Keyword.Namespace */\n",
       ".output_html .kp { color: #008000 } /* Keyword.Pseudo */\n",
       ".output_html .kr { color: #008000; font-weight: bold } /* Keyword.Reserved */\n",
       ".output_html .kt { color: #B00040 } /* Keyword.Type */\n",
       ".output_html .m { color: #666666 } /* Literal.Number */\n",
       ".output_html .s { color: #BA2121 } /* Literal.String */\n",
       ".output_html .na { color: #7D9029 } /* Name.Attribute */\n",
       ".output_html .nb { color: #008000 } /* Name.Builtin */\n",
       ".output_html .nc { color: #0000FF; font-weight: bold } /* Name.Class */\n",
       ".output_html .no { color: #880000 } /* Name.Constant */\n",
       ".output_html .nd { color: #AA22FF } /* Name.Decorator */\n",
       ".output_html .ni { color: #999999; font-weight: bold } /* Name.Entity */\n",
       ".output_html .ne { color: #D2413A; font-weight: bold } /* Name.Exception */\n",
       ".output_html .nf { color: #0000FF } /* Name.Function */\n",
       ".output_html .nl { color: #A0A000 } /* Name.Label */\n",
       ".output_html .nn { color: #0000FF; font-weight: bold } /* Name.Namespace */\n",
       ".output_html .nt { color: #008000; font-weight: bold } /* Name.Tag */\n",
       ".output_html .nv { color: #19177C } /* Name.Variable */\n",
       ".output_html .ow { color: #AA22FF; font-weight: bold } /* Operator.Word */\n",
       ".output_html .w { color: #bbbbbb } /* Text.Whitespace */\n",
       ".output_html .mb { color: #666666 } /* Literal.Number.Bin */\n",
       ".output_html .mf { color: #666666 } /* Literal.Number.Float */\n",
       ".output_html .mh { color: #666666 } /* Literal.Number.Hex */\n",
       ".output_html .mi { color: #666666 } /* Literal.Number.Integer */\n",
       ".output_html .mo { color: #666666 } /* Literal.Number.Oct */\n",
       ".output_html .sa { color: #BA2121 } /* Literal.String.Affix */\n",
       ".output_html .sb { color: #BA2121 } /* Literal.String.Backtick */\n",
       ".output_html .sc { color: #BA2121 } /* Literal.String.Char */\n",
       ".output_html .dl { color: #BA2121 } /* Literal.String.Delimiter */\n",
       ".output_html .sd { color: #BA2121; font-style: italic } /* Literal.String.Doc */\n",
       ".output_html .s2 { color: #BA2121 } /* Literal.String.Double */\n",
       ".output_html .se { color: #BB6622; font-weight: bold } /* Literal.String.Escape */\n",
       ".output_html .sh { color: #BA2121 } /* Literal.String.Heredoc */\n",
       ".output_html .si { color: #BB6688; font-weight: bold } /* Literal.String.Interpol */\n",
       ".output_html .sx { color: #008000 } /* Literal.String.Other */\n",
       ".output_html .sr { color: #BB6688 } /* Literal.String.Regex */\n",
       ".output_html .s1 { color: #BA2121 } /* Literal.String.Single */\n",
       ".output_html .ss { color: #19177C } /* Literal.String.Symbol */\n",
       ".output_html .bp { color: #008000 } /* Name.Builtin.Pseudo */\n",
       ".output_html .fm { color: #0000FF } /* Name.Function.Magic */\n",
       ".output_html .vc { color: #19177C } /* Name.Variable.Class */\n",
       ".output_html .vg { color: #19177C } /* Name.Variable.Global */\n",
       ".output_html .vi { color: #19177C } /* Name.Variable.Instance */\n",
       ".output_html .vm { color: #19177C } /* Name.Variable.Magic */\n",
       ".output_html .il { color: #666666 } /* Literal.Number.Integer.Long */</style><div class=\"highlight\"><pre><span></span><span class=\"kn\">from</span> <span class=\"nn\">fable_modules.fable_library.string</span> <span class=\"kn\">import</span> <span class=\"n\">to_console</span><span class=\"p\">,</span> <span class=\"n\">interpolate</span>\n",
       "\n",
       "<span class=\"n\">a</span> <span class=\"o\">=</span> <span class=\"mi\">10</span>\n",
       "\n",
       "<span class=\"k\">if</span> <span class=\"n\">a</span> <span class=\"ow\">is</span> <span class=\"kc\">None</span><span class=\"p\">:</span>\n",
       "    <span class=\"k\">pass</span>\n",
       "\n",
       "<span class=\"k\">else</span><span class=\"p\">:</span>\n",
       "    <span class=\"n\">to_console</span><span class=\"p\">(</span><span class=\"n\">interpolate</span><span class=\"p\">(</span><span class=\"s2\">&quot;This is %P()&quot;</span><span class=\"p\">,</span> <span class=\"p\">[</span><span class=\"n\">a</span><span class=\"p\">]))</span>\n",
       "</pre></div>\n"
      ],
      "text/plain": [
       "from fable_modules.fable_library.string import to_console, interpolate\n",
       "\n",
       "a = 10\n",
       "\n",
       "if a is None:\n",
       "    pass\n",
       "\n",
       "else:\n",
       "    to_console(interpolate(\"This is %P()\", [a]))"
      ]
     },
     "metadata": {},
     "output_type": "display_data"
    }
   ],
   "source": [
    "%python"
   ]
  },
  {
   "cell_type": "markdown",
   "id": "7129ec2b",
   "metadata": {
    "slideshow": {
     "slide_type": "slide"
    }
   },
   "source": [
    "# Challenges\n",
    "\n",
    "Where to start? Translate Babel AST or Fable AST?\n",
    "- **Fable AST**: gives more control. Know the intent of the code\n",
    "- **Arrow functions**: aka multi-line lambdas\n",
    "- **Non-local**: variable scoping. Python have no `let` or `const`\n",
    "- **Tail-call**: TC optimization. Closures within loops\n",
    "- **Numbers**: integers vs floats – numerics inherited from Fable JS\n",
    "- **Imports**: Python packages and modules, relative and absolute imports\n",
    "- **Async**: F# Async or Python awaitables, coroutines Futures and Tasks."
   ]
  },
  {
   "cell_type": "markdown",
   "id": "2f8c4872",
   "metadata": {
    "slideshow": {
     "slide_type": "slide"
    }
   },
   "source": [
    " # Type Annotations\n",
    " \n",
    "Python types and F# types are not fully compatible (yet). Ref:\n",
    "https://github.com/microsoft/pyright/issues/1264\n",
    "\n",
    "F#:\n",
    "\n",
    "```fs\n",
    "let length(xs: 'T list) =\n",
    "    42\n",
    "```\n",
    "\n",
    "Python:\n",
    "\n",
    "```py\n",
    "def length(xs: List[_T]) -> int:\n",
    "    return 42\n",
    "```\n",
    "Gives error in [Pyright](https://github.com/microsoft/pyright) type checker (used by Pylance):\n",
    "\n",
    "```\n",
    "TypeVar \"_T\" appears only once in generic function signature Pylance(reportInvalidTypeVarUse) (type variable) _T\n",
    "```"
   ]
  },
  {
   "cell_type": "markdown",
   "id": "984767c0",
   "metadata": {
    "slideshow": {
     "slide_type": "slide"
    }
   },
   "source": [
    "# Data Type Mapping\n",
    "\n",
    "| F#         |   Python   | Comment                                       |\n",
    "|------------|:----------:|-----------------------------------------------|\n",
    "| List       |  List.fs   | F# immutable list                             |\n",
    "| Map        |   Map.fs   | F# immutable map                              |\n",
    "| Array      |   `list`   | TODO: Python has arrays for numeric types     |\n",
    "| Record     |  types.py  | Custom Record class. Replace with `dict`?     |\n",
    "| An. Record |   `dict`   |                                               |\n",
    "| Option     |   Erased   | F# `None` will be translated to Python `None` |\n",
    "| dict       |   `dict`   | Also used for Dictionary                      |\n",
    "| tuple      |  `tuple`   |                                               |\n",
    "| Decimal    | `decimal`  |                                               |\n",
    "| DateTime   | `datetime` |                                               |\n",
    "| string     |  `string`  |                                               |\n",
    "| char       |  `string`  |                                               |\n"
   ]
  },
  {
   "cell_type": "markdown",
   "id": "eb4073d8",
   "metadata": {
    "slideshow": {
     "slide_type": "slide"
    }
   },
   "source": [
    " # Interfaces and Protocols\n",
    " \n",
    "- .NET uses Interfaces. Python uses protocols (duck typing) or structural sub-typing\n",
    "- Trying to translate .NET interfaces to Python magic methods\n",
    "- We want the Python code to look like Python (not .NET)\n",
    " \n",
    "| .NET          |       Python       |\n",
    "|:--------------|:------------------:|\n",
    "| `IEquatable`  |      `__eq__`      |\n",
    "| `IEnumerator` |     `__next__`     |\n",
    "| `IEnumerable` |     `__iter__`     |\n",
    "| `IComparable` | `__lt__`+ `__eq__` |\n",
    "| `ToString`    |     `__str__`      |\n",
    "\n",
    "Calls to `x.ToString` will be translated to `str(x)`."
   ]
  },
  {
   "cell_type": "markdown",
   "id": "25b1b947",
   "metadata": {
    "slideshow": {
     "slide_type": "slide"
    }
   },
   "source": [
    "# Numerics\n",
    "\n",
    "| F#               | .NET    | Python |\n",
    "|:-----------------|:--------|--------|\n",
    "| bool             | Boolean | bool   |\n",
    "| int              | Int32   | int    |\n",
    "| byte             | Byte    | int    |\n",
    "| sbyte            | SByte   | int    |\n",
    "| int16            | Int16   | int    |\n",
    "| int64            | Int64   | int    |\n",
    "| uint16           | Uint16  | int    |\n",
    "| uint32           | Uint32  | int    |\n",
    "| uint64           | Uint64  | int    |\n",
    "| float / double   | Double  | float  |\n",
    "| float32 / single | Single  | float  |\n",
    "\n",
    "Python integers are unbounded. Max size limited by available memory. "
   ]
  },
  {
   "cell_type": "markdown",
   "id": "2d309c1b",
   "metadata": {
    "slideshow": {
     "slide_type": "slide"
    }
   },
   "source": [
    "# Status: 661 Passing Unit-tests\n",
    "\n",
    "Tests first run as F# using **xUnit**, then **pytest** after compiling to Python:\n",
    "\n",
    "```py\n",
    "test_arithmetic.py .......................\n",
    "test_array.py ............................................\n",
    "test_async.py .............\n",
    "test_comparison.py .............................\n",
    "test_custom_operators.py ..........\n",
    "test_date_time.py ........\n",
    "test_enum.py ......................\n",
    "test_enumerable.py ...\n",
    "test_fn.py ..\n",
    "test_list.py ......................................................................................\n",
    "test_loops.py ...\n",
    "test_map.py .......................................\n",
    "test_math.py .\n",
    "test_option.py ................................\n",
    "test_py_interop.py ....\n",
    "test_record_type.py ...........\n",
    "test_reflection.py .............\n",
    "test_result.py ......\n",
    "test_seq.py ...............................................................................................\n",
    "test_seq_expression.py .............\n",
    "test_set.py ...............................................\n",
    "test_string.py ......................................................................................................................\n",
    "test_sudoku.py .\n",
    "test_tail_call.py ................\n",
    "test_tuple_type.py ........\n",
    "test_union_type.py ..............\n",
    "\n",
    "========= 661 passed in 18.16s =========\n",
    "Build finished successfully\n",
    "```"
   ]
  },
  {
   "cell_type": "markdown",
   "id": "7c3fe5fb",
   "metadata": {
    "slideshow": {
     "slide_type": "slide"
    }
   },
   "source": [
    "# Use Case: Jupyter Notebook\n",
    "\n",
    "<img src=\"https://upload.wikimedia.org/wikipedia/commons/3/38/Jupyter_logo.svg\" style=\"float:right; margin:auto\" width=\"200px\">\n",
    "\n",
    "- What you are seeing right now!\n",
    "- Run on `IPythonKernel` and can do anything that Python can do e.g Widgets\n",
    "- **Challenge**: Jupyter submit cells. Fable compiles projects and files / modules\n",
    "- **TODO:** start F# compilation from within the kernel\n",
    "- **TODO:** completion using [FsAutoComplete](https://github.com/fsharp/FsAutoComplete)\n",
    "- **TODO:** NuGet handling using `#r \"nuget:...\"`\n",
    "\n",
    "https://github.com/dbrattli/Fable.Jupyter"
   ]
  },
  {
   "cell_type": "code",
   "execution_count": 5,
   "id": "d70a521d",
   "metadata": {
    "slideshow": {
     "slide_type": "slide"
    }
   },
   "outputs": [
    {
     "name": "stdout",
     "output_type": "stream",
     "text": [
      "result: 4.031128874149275\n",
      "The result is 4.031129\n"
     ]
    }
   ],
   "source": [
    "// Example to create some nested functions\n",
    "let add(a, b, cont) =\n",
    "    cont(a + b)\n",
    "\n",
    "let square(x, cont) =\n",
    "    cont(x * x)\n",
    "\n",
    "let sqrt(x, cont) =\n",
    "    cont(sqrt(x))\n",
    "\n",
    "let pythagoras(a, b, cont) =\n",
    "    let mutable state = 0\n",
    "    square(a, (fun aa ->\n",
    "        square(b, (fun bb ->\n",
    "            add(aa, bb, (fun aabb ->\n",
    "                sqrt(aabb, (fun result ->\n",
    "                    printfn \"result: %A\" result\n",
    "                    state <- 42\n",
    "                    cont(result)\n",
    "                ))\n",
    "            ))\n",
    "        ))\n",
    "    ))\n",
    "\n",
    "pythagoras(2.0, 3.5, printfn \"The result is %f\")"
   ]
  },
  {
   "cell_type": "code",
   "execution_count": 6,
   "id": "e205437d",
   "metadata": {
    "slideshow": {
     "slide_type": "-"
    }
   },
   "outputs": [
    {
     "data": {
      "text/html": [
       "<style>pre { line-height: 125%; }\n",
       "td.linenos .normal { color: inherit; background-color: transparent; padding-left: 5px; padding-right: 5px; }\n",
       "span.linenos { color: inherit; background-color: transparent; padding-left: 5px; padding-right: 5px; }\n",
       "td.linenos .special { color: #000000; background-color: #ffffc0; padding-left: 5px; padding-right: 5px; }\n",
       "span.linenos.special { color: #000000; background-color: #ffffc0; padding-left: 5px; padding-right: 5px; }\n",
       ".output_html .hll { background-color: #ffffcc }\n",
       ".output_html { background: #f8f8f8; }\n",
       ".output_html .c { color: #408080; font-style: italic } /* Comment */\n",
       ".output_html .err { border: 1px solid #FF0000 } /* Error */\n",
       ".output_html .k { color: #008000; font-weight: bold } /* Keyword */\n",
       ".output_html .o { color: #666666 } /* Operator */\n",
       ".output_html .ch { color: #408080; font-style: italic } /* Comment.Hashbang */\n",
       ".output_html .cm { color: #408080; font-style: italic } /* Comment.Multiline */\n",
       ".output_html .cp { color: #BC7A00 } /* Comment.Preproc */\n",
       ".output_html .cpf { color: #408080; font-style: italic } /* Comment.PreprocFile */\n",
       ".output_html .c1 { color: #408080; font-style: italic } /* Comment.Single */\n",
       ".output_html .cs { color: #408080; font-style: italic } /* Comment.Special */\n",
       ".output_html .gd { color: #A00000 } /* Generic.Deleted */\n",
       ".output_html .ge { font-style: italic } /* Generic.Emph */\n",
       ".output_html .gr { color: #FF0000 } /* Generic.Error */\n",
       ".output_html .gh { color: #000080; font-weight: bold } /* Generic.Heading */\n",
       ".output_html .gi { color: #00A000 } /* Generic.Inserted */\n",
       ".output_html .go { color: #888888 } /* Generic.Output */\n",
       ".output_html .gp { color: #000080; font-weight: bold } /* Generic.Prompt */\n",
       ".output_html .gs { font-weight: bold } /* Generic.Strong */\n",
       ".output_html .gu { color: #800080; font-weight: bold } /* Generic.Subheading */\n",
       ".output_html .gt { color: #0044DD } /* Generic.Traceback */\n",
       ".output_html .kc { color: #008000; font-weight: bold } /* Keyword.Constant */\n",
       ".output_html .kd { color: #008000; font-weight: bold } /* Keyword.Declaration */\n",
       ".output_html .kn { color: #008000; font-weight: bold } /* Keyword.Namespace */\n",
       ".output_html .kp { color: #008000 } /* Keyword.Pseudo */\n",
       ".output_html .kr { color: #008000; font-weight: bold } /* Keyword.Reserved */\n",
       ".output_html .kt { color: #B00040 } /* Keyword.Type */\n",
       ".output_html .m { color: #666666 } /* Literal.Number */\n",
       ".output_html .s { color: #BA2121 } /* Literal.String */\n",
       ".output_html .na { color: #7D9029 } /* Name.Attribute */\n",
       ".output_html .nb { color: #008000 } /* Name.Builtin */\n",
       ".output_html .nc { color: #0000FF; font-weight: bold } /* Name.Class */\n",
       ".output_html .no { color: #880000 } /* Name.Constant */\n",
       ".output_html .nd { color: #AA22FF } /* Name.Decorator */\n",
       ".output_html .ni { color: #999999; font-weight: bold } /* Name.Entity */\n",
       ".output_html .ne { color: #D2413A; font-weight: bold } /* Name.Exception */\n",
       ".output_html .nf { color: #0000FF } /* Name.Function */\n",
       ".output_html .nl { color: #A0A000 } /* Name.Label */\n",
       ".output_html .nn { color: #0000FF; font-weight: bold } /* Name.Namespace */\n",
       ".output_html .nt { color: #008000; font-weight: bold } /* Name.Tag */\n",
       ".output_html .nv { color: #19177C } /* Name.Variable */\n",
       ".output_html .ow { color: #AA22FF; font-weight: bold } /* Operator.Word */\n",
       ".output_html .w { color: #bbbbbb } /* Text.Whitespace */\n",
       ".output_html .mb { color: #666666 } /* Literal.Number.Bin */\n",
       ".output_html .mf { color: #666666 } /* Literal.Number.Float */\n",
       ".output_html .mh { color: #666666 } /* Literal.Number.Hex */\n",
       ".output_html .mi { color: #666666 } /* Literal.Number.Integer */\n",
       ".output_html .mo { color: #666666 } /* Literal.Number.Oct */\n",
       ".output_html .sa { color: #BA2121 } /* Literal.String.Affix */\n",
       ".output_html .sb { color: #BA2121 } /* Literal.String.Backtick */\n",
       ".output_html .sc { color: #BA2121 } /* Literal.String.Char */\n",
       ".output_html .dl { color: #BA2121 } /* Literal.String.Delimiter */\n",
       ".output_html .sd { color: #BA2121; font-style: italic } /* Literal.String.Doc */\n",
       ".output_html .s2 { color: #BA2121 } /* Literal.String.Double */\n",
       ".output_html .se { color: #BB6622; font-weight: bold } /* Literal.String.Escape */\n",
       ".output_html .sh { color: #BA2121 } /* Literal.String.Heredoc */\n",
       ".output_html .si { color: #BB6688; font-weight: bold } /* Literal.String.Interpol */\n",
       ".output_html .sx { color: #008000 } /* Literal.String.Other */\n",
       ".output_html .sr { color: #BB6688 } /* Literal.String.Regex */\n",
       ".output_html .s1 { color: #BA2121 } /* Literal.String.Single */\n",
       ".output_html .ss { color: #19177C } /* Literal.String.Symbol */\n",
       ".output_html .bp { color: #008000 } /* Name.Builtin.Pseudo */\n",
       ".output_html .fm { color: #0000FF } /* Name.Function.Magic */\n",
       ".output_html .vc { color: #19177C } /* Name.Variable.Class */\n",
       ".output_html .vg { color: #19177C } /* Name.Variable.Global */\n",
       ".output_html .vi { color: #19177C } /* Name.Variable.Instance */\n",
       ".output_html .vm { color: #19177C } /* Name.Variable.Magic */\n",
       ".output_html .il { color: #666666 } /* Literal.Number.Integer.Long */</style><div class=\"highlight\"><pre><span></span><span class=\"kn\">import</span> <span class=\"nn\">math</span>\n",
       "<span class=\"kn\">from</span> <span class=\"nn\">fable_modules.fable_library.string</span> <span class=\"kn\">import</span> <span class=\"n\">to_console</span><span class=\"p\">,</span> <span class=\"n\">printf</span>\n",
       "\n",
       "<span class=\"n\">a</span> <span class=\"o\">=</span> <span class=\"mi\">10</span>\n",
       "\n",
       "\n",
       "<span class=\"k\">def</span> <span class=\"nf\">add</span><span class=\"p\">(</span><span class=\"n\">a_1</span><span class=\"p\">,</span> <span class=\"n\">b</span><span class=\"p\">,</span> <span class=\"n\">cont</span><span class=\"p\">):</span>\n",
       "    <span class=\"k\">return</span> <span class=\"n\">cont</span><span class=\"p\">(</span><span class=\"n\">a_1</span> <span class=\"o\">+</span> <span class=\"n\">b</span><span class=\"p\">)</span>\n",
       "\n",
       "\n",
       "<span class=\"k\">def</span> <span class=\"nf\">square</span><span class=\"p\">(</span><span class=\"n\">x</span><span class=\"p\">,</span> <span class=\"n\">cont</span><span class=\"p\">):</span>\n",
       "    <span class=\"k\">return</span> <span class=\"n\">cont</span><span class=\"p\">(</span><span class=\"n\">x</span> <span class=\"o\">*</span> <span class=\"n\">x</span><span class=\"p\">)</span>\n",
       "\n",
       "\n",
       "<span class=\"k\">def</span> <span class=\"nf\">sqrt</span><span class=\"p\">(</span><span class=\"n\">x</span><span class=\"p\">,</span> <span class=\"n\">cont</span><span class=\"p\">):</span>\n",
       "    <span class=\"k\">return</span> <span class=\"n\">cont</span><span class=\"p\">(</span><span class=\"n\">math</span><span class=\"o\">.</span><span class=\"n\">sqrt</span><span class=\"p\">(</span><span class=\"n\">x</span><span class=\"p\">))</span>\n",
       "\n",
       "\n",
       "<span class=\"k\">def</span> <span class=\"nf\">pythagoras</span><span class=\"p\">(</span><span class=\"n\">a_1</span><span class=\"p\">,</span> <span class=\"n\">b</span><span class=\"p\">,</span> <span class=\"n\">cont</span><span class=\"p\">):</span>\n",
       "    <span class=\"n\">state</span> <span class=\"o\">=</span> <span class=\"mi\">0</span>\n",
       "\n",
       "    <span class=\"k\">def</span> <span class=\"nf\">arrow_12</span><span class=\"p\">(</span><span class=\"n\">aa</span><span class=\"p\">,</span> <span class=\"n\">a_1</span><span class=\"o\">=</span><span class=\"n\">a_1</span><span class=\"p\">,</span> <span class=\"n\">b</span><span class=\"o\">=</span><span class=\"n\">b</span><span class=\"p\">,</span> <span class=\"n\">cont</span><span class=\"o\">=</span><span class=\"n\">cont</span><span class=\"p\">):</span>\n",
       "        <span class=\"k\">def</span> <span class=\"nf\">arrow_11</span><span class=\"p\">(</span><span class=\"n\">bb</span><span class=\"p\">):</span>\n",
       "            <span class=\"k\">def</span> <span class=\"nf\">arrow_10</span><span class=\"p\">(</span><span class=\"n\">aabb</span><span class=\"p\">):</span>\n",
       "                <span class=\"k\">def</span> <span class=\"nf\">arrow_9</span><span class=\"p\">(</span><span class=\"n\">result</span><span class=\"p\">):</span>\n",
       "                    <span class=\"k\">nonlocal</span> <span class=\"n\">state</span>\n",
       "                    <span class=\"n\">to_console</span><span class=\"p\">(</span><span class=\"n\">printf</span><span class=\"p\">(</span><span class=\"s2\">&quot;result: %A&quot;</span><span class=\"p\">))(</span><span class=\"n\">result</span><span class=\"p\">)</span>\n",
       "                    <span class=\"n\">state</span> <span class=\"o\">=</span> <span class=\"mi\">42</span>\n",
       "                    <span class=\"k\">return</span> <span class=\"n\">cont</span><span class=\"p\">(</span><span class=\"n\">result</span><span class=\"p\">)</span>\n",
       "\n",
       "                <span class=\"k\">return</span> <span class=\"n\">sqrt</span><span class=\"p\">(</span><span class=\"n\">aabb</span><span class=\"p\">,</span> <span class=\"n\">arrow_9</span><span class=\"p\">)</span>\n",
       "\n",
       "            <span class=\"k\">return</span> <span class=\"n\">add</span><span class=\"p\">(</span><span class=\"n\">aa</span><span class=\"p\">,</span> <span class=\"n\">bb</span><span class=\"p\">,</span> <span class=\"n\">arrow_10</span><span class=\"p\">)</span>\n",
       "\n",
       "        <span class=\"k\">return</span> <span class=\"n\">square</span><span class=\"p\">(</span><span class=\"n\">b</span><span class=\"p\">,</span> <span class=\"n\">arrow_11</span><span class=\"p\">)</span>\n",
       "\n",
       "    <span class=\"k\">return</span> <span class=\"n\">square</span><span class=\"p\">(</span><span class=\"n\">a_1</span><span class=\"p\">,</span> <span class=\"n\">arrow_12</span><span class=\"p\">)</span>\n",
       "\n",
       "\n",
       "<span class=\"k\">def</span> <span class=\"nf\">arrow_14</span><span class=\"p\">(</span><span class=\"n\">_unit</span><span class=\"o\">=</span><span class=\"kc\">None</span><span class=\"p\">):</span>\n",
       "    <span class=\"n\">clo1</span> <span class=\"o\">=</span> <span class=\"n\">to_console</span><span class=\"p\">(</span><span class=\"n\">printf</span><span class=\"p\">(</span><span class=\"s2\">&quot;The result is </span><span class=\"si\">%f</span><span class=\"s2\">&quot;</span><span class=\"p\">))</span>\n",
       "\n",
       "    <span class=\"k\">def</span> <span class=\"nf\">arrow_13</span><span class=\"p\">(</span><span class=\"n\">arg10</span><span class=\"p\">):</span>\n",
       "        <span class=\"n\">clo1</span><span class=\"p\">(</span><span class=\"n\">arg10</span><span class=\"p\">)</span>\n",
       "\n",
       "    <span class=\"k\">return</span> <span class=\"n\">arrow_13</span>\n",
       "\n",
       "\n",
       "<span class=\"n\">pythagoras</span><span class=\"p\">(</span><span class=\"mi\">2</span><span class=\"p\">,</span> <span class=\"mf\">3.5</span><span class=\"p\">,</span> <span class=\"n\">arrow_14</span><span class=\"p\">())</span>\n",
       "</pre></div>\n"
      ],
      "text/plain": [
       "import math\n",
       "from fable_modules.fable_library.string import to_console, printf\n",
       "\n",
       "a = 10\n",
       "\n",
       "\n",
       "def add(a_1, b, cont):\n",
       "    return cont(a_1 + b)\n",
       "\n",
       "\n",
       "def square(x, cont):\n",
       "    return cont(x * x)\n",
       "\n",
       "\n",
       "def sqrt(x, cont):\n",
       "    return cont(math.sqrt(x))\n",
       "\n",
       "\n",
       "def pythagoras(a_1, b, cont):\n",
       "    state = 0\n",
       "\n",
       "    def arrow_12(aa, a_1=a_1, b=b, cont=cont):\n",
       "        def arrow_11(bb):\n",
       "            def arrow_10(aabb):\n",
       "                def arrow_9(result):\n",
       "                    nonlocal state\n",
       "                    to_console(printf(\"result: %A\"))(result)\n",
       "                    state = 42\n",
       "                    return cont(result)\n",
       "\n",
       "                return sqrt(aabb, arrow_9)\n",
       "\n",
       "            return add(aa, bb, arrow_10)\n",
       "\n",
       "        return square(b, arrow_11)\n",
       "\n",
       "    return square(a_1, arrow_12)\n",
       "\n",
       "\n",
       "def arrow_14(_unit=None):\n",
       "    clo1 = to_console(printf(\"The result is %f\"))\n",
       "\n",
       "    def arrow_13(arg10):\n",
       "        clo1(arg10)\n",
       "\n",
       "    return arrow_13\n",
       "\n",
       "\n",
       "pythagoras(2, 3.5, arrow_14())"
      ]
     },
     "metadata": {},
     "output_type": "display_data"
    }
   ],
   "source": [
    "%python"
   ]
  },
  {
   "cell_type": "code",
   "execution_count": 6,
   "id": "268d3885",
   "metadata": {
    "scrolled": true,
    "slideshow": {
     "slide_type": "-"
    }
   },
   "outputs": [
    {
     "data": {
      "text/html": [
       "<style>pre { line-height: 125%; }\n",
       "td.linenos .normal { color: inherit; background-color: transparent; padding-left: 5px; padding-right: 5px; }\n",
       "span.linenos { color: inherit; background-color: transparent; padding-left: 5px; padding-right: 5px; }\n",
       "td.linenos .special { color: #000000; background-color: #ffffc0; padding-left: 5px; padding-right: 5px; }\n",
       "span.linenos.special { color: #000000; background-color: #ffffc0; padding-left: 5px; padding-right: 5px; }\n",
       ".output_html .hll { background-color: #ffffcc }\n",
       ".output_html { background: #f8f8f8; }\n",
       ".output_html .c { color: #408080; font-style: italic } /* Comment */\n",
       ".output_html .err { border: 1px solid #FF0000 } /* Error */\n",
       ".output_html .k { color: #008000; font-weight: bold } /* Keyword */\n",
       ".output_html .o { color: #666666 } /* Operator */\n",
       ".output_html .ch { color: #408080; font-style: italic } /* Comment.Hashbang */\n",
       ".output_html .cm { color: #408080; font-style: italic } /* Comment.Multiline */\n",
       ".output_html .cp { color: #BC7A00 } /* Comment.Preproc */\n",
       ".output_html .cpf { color: #408080; font-style: italic } /* Comment.PreprocFile */\n",
       ".output_html .c1 { color: #408080; font-style: italic } /* Comment.Single */\n",
       ".output_html .cs { color: #408080; font-style: italic } /* Comment.Special */\n",
       ".output_html .gd { color: #A00000 } /* Generic.Deleted */\n",
       ".output_html .ge { font-style: italic } /* Generic.Emph */\n",
       ".output_html .gr { color: #FF0000 } /* Generic.Error */\n",
       ".output_html .gh { color: #000080; font-weight: bold } /* Generic.Heading */\n",
       ".output_html .gi { color: #00A000 } /* Generic.Inserted */\n",
       ".output_html .go { color: #888888 } /* Generic.Output */\n",
       ".output_html .gp { color: #000080; font-weight: bold } /* Generic.Prompt */\n",
       ".output_html .gs { font-weight: bold } /* Generic.Strong */\n",
       ".output_html .gu { color: #800080; font-weight: bold } /* Generic.Subheading */\n",
       ".output_html .gt { color: #0044DD } /* Generic.Traceback */\n",
       ".output_html .kc { color: #008000; font-weight: bold } /* Keyword.Constant */\n",
       ".output_html .kd { color: #008000; font-weight: bold } /* Keyword.Declaration */\n",
       ".output_html .kn { color: #008000; font-weight: bold } /* Keyword.Namespace */\n",
       ".output_html .kp { color: #008000 } /* Keyword.Pseudo */\n",
       ".output_html .kr { color: #008000; font-weight: bold } /* Keyword.Reserved */\n",
       ".output_html .kt { color: #B00040 } /* Keyword.Type */\n",
       ".output_html .m { color: #666666 } /* Literal.Number */\n",
       ".output_html .s { color: #BA2121 } /* Literal.String */\n",
       ".output_html .na { color: #7D9029 } /* Name.Attribute */\n",
       ".output_html .nb { color: #008000 } /* Name.Builtin */\n",
       ".output_html .nc { color: #0000FF; font-weight: bold } /* Name.Class */\n",
       ".output_html .no { color: #880000 } /* Name.Constant */\n",
       ".output_html .nd { color: #AA22FF } /* Name.Decorator */\n",
       ".output_html .ni { color: #999999; font-weight: bold } /* Name.Entity */\n",
       ".output_html .ne { color: #D2413A; font-weight: bold } /* Name.Exception */\n",
       ".output_html .nf { color: #0000FF } /* Name.Function */\n",
       ".output_html .nl { color: #A0A000 } /* Name.Label */\n",
       ".output_html .nn { color: #0000FF; font-weight: bold } /* Name.Namespace */\n",
       ".output_html .nt { color: #008000; font-weight: bold } /* Name.Tag */\n",
       ".output_html .nv { color: #19177C } /* Name.Variable */\n",
       ".output_html .ow { color: #AA22FF; font-weight: bold } /* Operator.Word */\n",
       ".output_html .w { color: #bbbbbb } /* Text.Whitespace */\n",
       ".output_html .mb { color: #666666 } /* Literal.Number.Bin */\n",
       ".output_html .mf { color: #666666 } /* Literal.Number.Float */\n",
       ".output_html .mh { color: #666666 } /* Literal.Number.Hex */\n",
       ".output_html .mi { color: #666666 } /* Literal.Number.Integer */\n",
       ".output_html .mo { color: #666666 } /* Literal.Number.Oct */\n",
       ".output_html .sa { color: #BA2121 } /* Literal.String.Affix */\n",
       ".output_html .sb { color: #BA2121 } /* Literal.String.Backtick */\n",
       ".output_html .sc { color: #BA2121 } /* Literal.String.Char */\n",
       ".output_html .dl { color: #BA2121 } /* Literal.String.Delimiter */\n",
       ".output_html .sd { color: #BA2121; font-style: italic } /* Literal.String.Doc */\n",
       ".output_html .s2 { color: #BA2121 } /* Literal.String.Double */\n",
       ".output_html .se { color: #BB6622; font-weight: bold } /* Literal.String.Escape */\n",
       ".output_html .sh { color: #BA2121 } /* Literal.String.Heredoc */\n",
       ".output_html .si { color: #BB6688; font-weight: bold } /* Literal.String.Interpol */\n",
       ".output_html .sx { color: #008000 } /* Literal.String.Other */\n",
       ".output_html .sr { color: #BB6688 } /* Literal.String.Regex */\n",
       ".output_html .s1 { color: #BA2121 } /* Literal.String.Single */\n",
       ".output_html .ss { color: #19177C } /* Literal.String.Symbol */\n",
       ".output_html .bp { color: #008000 } /* Name.Builtin.Pseudo */\n",
       ".output_html .fm { color: #0000FF } /* Name.Function.Magic */\n",
       ".output_html .vc { color: #19177C } /* Name.Variable.Class */\n",
       ".output_html .vg { color: #19177C } /* Name.Variable.Global */\n",
       ".output_html .vi { color: #19177C } /* Name.Variable.Instance */\n",
       ".output_html .vm { color: #19177C } /* Name.Variable.Magic */\n",
       ".output_html .il { color: #666666 } /* Literal.Number.Integer.Long */</style><div class=\"highlight\"><pre><span></span><span class=\"k\">module</span> <span class=\"nn\">Fable.Jupyter</span>\n",
       "<span class=\"k\">let</span> <span class=\"nv\">a</span> <span class=\"o\">=</span> <span class=\"n\">Some</span> <span class=\"mi\">10</span>\n",
       "<span class=\"k\">let</span> <span class=\"nv\">add</span><span class=\"o\">(</span><span class=\"n\">a</span><span class=\"o\">,</span> <span class=\"n\">b</span><span class=\"o\">,</span> <span class=\"n\">cont</span><span class=\"o\">)</span> <span class=\"o\">=</span>\n",
       "    <span class=\"n\">cont</span><span class=\"o\">(</span><span class=\"n\">a</span> <span class=\"o\">+</span> <span class=\"n\">b</span><span class=\"o\">)</span>\n",
       "<span class=\"k\">let</span> <span class=\"nv\">square</span><span class=\"o\">(</span><span class=\"n\">x</span><span class=\"o\">,</span> <span class=\"n\">cont</span><span class=\"o\">)</span> <span class=\"o\">=</span>\n",
       "    <span class=\"n\">cont</span><span class=\"o\">(</span><span class=\"n\">x</span> <span class=\"o\">*</span> <span class=\"n\">x</span><span class=\"o\">)</span>\n",
       "<span class=\"k\">let</span> <span class=\"nv\">sqrt</span><span class=\"o\">(</span><span class=\"n\">x</span><span class=\"o\">,</span> <span class=\"n\">cont</span><span class=\"o\">)</span> <span class=\"o\">=</span>\n",
       "    <span class=\"n\">cont</span><span class=\"o\">(</span><span class=\"n\">sqrt</span><span class=\"o\">(</span><span class=\"n\">x</span><span class=\"o\">))</span>\n",
       "<span class=\"k\">let</span> <span class=\"nv\">pythagoras</span><span class=\"o\">(</span><span class=\"n\">a</span><span class=\"o\">,</span> <span class=\"n\">b</span><span class=\"o\">,</span> <span class=\"n\">cont</span><span class=\"o\">)</span> <span class=\"o\">=</span>\n",
       "    <span class=\"k\">let</span> <span class=\"nv\">mutable</span> <span class=\"n\">state</span> <span class=\"o\">=</span> <span class=\"mi\">0</span>\n",
       "    <span class=\"n\">square</span><span class=\"o\">(</span><span class=\"n\">a</span><span class=\"o\">,</span> <span class=\"o\">(</span><span class=\"k\">fun</span> <span class=\"n\">aa</span> <span class=\"o\">-&gt;</span>\n",
       "        <span class=\"n\">square</span><span class=\"o\">(</span><span class=\"n\">b</span><span class=\"o\">,</span> <span class=\"o\">(</span><span class=\"k\">fun</span> <span class=\"n\">bb</span> <span class=\"o\">-&gt;</span>\n",
       "            <span class=\"n\">add</span><span class=\"o\">(</span><span class=\"n\">aa</span><span class=\"o\">,</span> <span class=\"n\">bb</span><span class=\"o\">,</span> <span class=\"o\">(</span><span class=\"k\">fun</span> <span class=\"n\">aabb</span> <span class=\"o\">-&gt;</span>\n",
       "                <span class=\"n\">sqrt</span><span class=\"o\">(</span><span class=\"n\">aabb</span><span class=\"o\">,</span> <span class=\"o\">(</span><span class=\"k\">fun</span> <span class=\"n\">result</span> <span class=\"o\">-&gt;</span>\n",
       "                    <span class=\"n\">printfn</span> <span class=\"s\">&quot;result: %A&quot;</span> <span class=\"n\">result</span>\n",
       "                    <span class=\"n\">state</span> <span class=\"o\">&lt;-</span> <span class=\"mi\">42</span>\n",
       "                    <span class=\"n\">cont</span><span class=\"o\">(</span><span class=\"n\">result</span><span class=\"o\">)</span>\n",
       "                <span class=\"o\">))</span>\n",
       "            <span class=\"o\">))</span>\n",
       "        <span class=\"o\">))</span>\n",
       "    <span class=\"o\">))</span>\n",
       "<span class=\"c1\">// Example to create some nested functions</span>\n",
       "<span class=\"n\">pythagoras</span><span class=\"o\">(</span><span class=\"mi\">2</span><span class=\"o\">.</span><span class=\"mi\">0</span><span class=\"o\">,</span> <span class=\"mi\">3</span><span class=\"o\">.</span><span class=\"mi\">5</span><span class=\"o\">,</span> <span class=\"n\">printfn</span> <span class=\"s\">&quot;The result is %f&quot;</span><span class=\"o\">)</span>\n",
       "</pre></div>\n"
      ],
      "text/plain": [
       "module Fable.Jupyter\n",
       "let a = Some 10\n",
       "let add(a, b, cont) =\n",
       "    cont(a + b)\n",
       "let square(x, cont) =\n",
       "    cont(x * x)\n",
       "let sqrt(x, cont) =\n",
       "    cont(sqrt(x))\n",
       "let pythagoras(a, b, cont) =\n",
       "    let mutable state = 0\n",
       "    square(a, (fun aa ->\n",
       "        square(b, (fun bb ->\n",
       "            add(aa, bb, (fun aabb ->\n",
       "                sqrt(aabb, (fun result ->\n",
       "                    printfn \"result: %A\" result\n",
       "                    state <- 42\n",
       "                    cont(result)\n",
       "                ))\n",
       "            ))\n",
       "        ))\n",
       "    ))\n",
       "// Example to create some nested functions\n",
       "pythagoras(2.0, 3.5, printfn \"The result is %f\")"
      ]
     },
     "metadata": {},
     "output_type": "display_data"
    }
   ],
   "source": [
    "%fsharp"
   ]
  },
  {
   "cell_type": "markdown",
   "id": "631e2a04",
   "metadata": {
    "slideshow": {
     "slide_type": "slide"
    }
   },
   "source": [
    "## Shared Kernel\n",
    "\n",
    "- F# and Python running together in the same Jupyter kernel\n",
    "- Same kernel, same variables"
   ]
  },
  {
   "cell_type": "code",
   "execution_count": 6,
   "id": "2e8d002f",
   "metadata": {
    "scrolled": true,
    "slideshow": {
     "slide_type": "-"
    }
   },
   "outputs": [
    {
     "name": "stdout",
     "output_type": "stream",
     "text": [
      "Python:  20\n"
     ]
    }
   ],
   "source": [
    "%%python\n",
    "p = 20\n",
    "print(\"Python: \", p)"
   ]
  },
  {
   "cell_type": "code",
   "execution_count": 7,
   "id": "cb66dabf",
   "metadata": {},
   "outputs": [
    {
     "name": "stdout",
     "output_type": "stream",
     "text": [
      "From Python: 20\n"
     ]
    }
   ],
   "source": [
    "open Fable.Core\n",
    "let [<Global>] p : int = nativeOnly\n",
    "\n",
    "printfn $\"From Python: {p}\""
   ]
  },
  {
   "cell_type": "code",
   "execution_count": 8,
   "id": "f3a693fc",
   "metadata": {},
   "outputs": [],
   "source": [
    "// F#\n",
    "let q = 42"
   ]
  },
  {
   "cell_type": "code",
   "execution_count": 9,
   "id": "999bff33",
   "metadata": {
    "scrolled": true
   },
   "outputs": [
    {
     "name": "stdout",
     "output_type": "stream",
     "text": [
      "52\n"
     ]
    }
   ],
   "source": [
    "%%python\n",
    "print(q + 10)"
   ]
  },
  {
   "cell_type": "markdown",
   "id": "cfca033d",
   "metadata": {
    "slideshow": {
     "slide_type": "slide"
    }
   },
   "source": [
    "# Widgets"
   ]
  },
  {
   "cell_type": "code",
   "execution_count": 11,
   "id": "ebc71bcd",
   "metadata": {
    "slideshow": {
     "slide_type": "-"
    }
   },
   "outputs": [
    {
     "data": {
      "application/vnd.jupyter.widget-view+json": {
       "model_id": "f92154ef8fe2462192b2f775673a05f1",
       "version_major": 2,
       "version_minor": 0
      },
      "text/plain": [
       "interactive(children=(Text(value='test', description='x'), Output()), _dom_classes=('widget-interact',))"
      ]
     },
     "metadata": {},
     "output_type": "display_data"
    },
    {
     "data": {
      "text/plain": [
       "<function __main__.<lambda>(x)>"
      ]
     },
     "execution_count": 11,
     "metadata": {},
     "output_type": "execute_result"
    }
   ],
   "source": [
    "open Fable.Python.IPyWidgets\n",
    "\n",
    "let handler(x: string) =\n",
    "    $\"Got: {x}\"\n",
    "\n",
    "widgets.interact(handler, x=\"test\") |> ignore"
   ]
  },
  {
   "cell_type": "code",
   "execution_count": 12,
   "id": "f607b5f1",
   "metadata": {},
   "outputs": [
    {
     "data": {
      "application/vnd.jupyter.widget-view+json": {
       "model_id": "0a5363cf492f44a59664e42fb45c65a8",
       "version_major": 2,
       "version_minor": 0
      },
      "text/plain": [
       "FloatSlider(value=0.0)"
      ]
     },
     "metadata": {},
     "output_type": "display_data"
    }
   ],
   "source": [
    "open Fable.Python.IPyWidgets\n",
    "\n",
    "widgets.FloatSlider()"
   ]
  },
  {
   "cell_type": "markdown",
   "id": "4ac4ffaa",
   "metadata": {
    "slideshow": {
     "slide_type": "slide"
    }
   },
   "source": [
    "# Data Science\n",
    "\n",
    "Plot a time-series from Cognite Data Fusion (CDF)"
   ]
  },
  {
   "cell_type": "code",
   "execution_count": 13,
   "id": "45ce5808",
   "metadata": {},
   "outputs": [
    {
     "data": {
      "image/png": "[encoded data removed]",
      "text/plain": [
       "<Figure size 432x288 with 1 Axes>"
      ]
     },
     "metadata": {
      "needs_background": "light"
     },
     "output_type": "display_data"
    }
   ],
   "source": [
    "open Fable.Core\n",
    "open Fable.Python\n",
    "\n",
    "open CogniteSdk\n",
    "open Os\n",
    "\n",
    "let apiKey () = os.getenv \"API_KEY\"\n",
    "let client = CogniteClient(clientName=\"Fable Python\", project=\"publicdata\", apiKey=apiKey().Value)\n",
    "\n",
    "let ts = client.time_series.retrieve(id=7638223843994790L)\n",
    "ts.plot(\"365d-ago\", \"now\", [|\"average\"|], \"1d\")"
   ]
  },
  {
   "cell_type": "markdown",
   "id": "e34ce26e",
   "metadata": {
    "slideshow": {
     "slide_type": "slide"
    }
   },
   "source": [
    "# Use Case: Using Python Standard Library\n",
    "\n",
    "- F# on Python environment without .NET\n",
    "- We need type bindings: [Fable.Python](https://github.com/dbrattli/Fable.Python)\n",
    "- Perhaps we want to automate the job using some tool \n",
    "- But tools produces code that is hard to use (friction)\n",
    "- Hand-crafting and PR’s is needed!\n",
    "- But this is not harder than what's lready done with e.g Python [typesched](https://github.com/python/typeshed)\n"
   ]
  },
  {
   "cell_type": "code",
   "execution_count": 14,
   "id": "9b07b2b5",
   "metadata": {
    "slideshow": {
     "slide_type": "-"
    }
   },
   "outputs": [
    {
     "name": "stdout",
     "output_type": "stream",
     "text": [
      "test: 3\n"
     ]
    }
   ],
   "source": [
    "open Fable.Python.Builtins\n",
    "\n",
    "print($\"test: {1+2}\")"
   ]
  },
  {
   "cell_type": "code",
   "execution_count": 16,
   "id": "20b2de19",
   "metadata": {},
   "outputs": [
    {
     "name": "stdout",
     "output_type": "stream",
     "text": [
      "Module(body=[Expr(value=Lambda(args=arguments(posonlyargs=[], args=[arg(arg='x')], kwonlyargs=[], kw_defaults=[], defaults=[]), body=BinOp(left=Name(id='x', ctx=Load()), op=Add(), right=Constant(value=42))))], type_ignores=[])\n"
     ]
    }
   ],
   "source": [
    "open Fable.Python.Ast\n",
    "let expr = ast.parse(\"lambda x: x + 42\")\n",
    "ast.unparse(expr)\n",
    "print(ast.dump(expr))"
   ]
  },
  {
   "cell_type": "code",
   "execution_count": 17,
   "id": "aaff934d",
   "metadata": {},
   "outputs": [
    {
     "data": {
      "text/plain": [
       "'{\"A\": 10, \"B\": 20}'"
      ]
     },
     "execution_count": 17,
     "metadata": {},
     "output_type": "execute_result"
    }
   ],
   "source": [
    "open Fable.Python.Json\n",
    "let record = {|A=10; B=20|}\n",
    "json.dumps(record)"
   ]
  },
  {
   "cell_type": "markdown",
   "id": "9ad93be7",
   "metadata": {
    "slideshow": {
     "slide_type": "slide"
    }
   },
   "source": [
    "# Use Case: Flask Web Server\n",
    "\n",
    "<img src=\"https://flask.palletsprojects.com/en/2.0.x/_images/flask-logo.png\" style=\"float:right; margin:auto\" width=\"200px\">\n",
    "\n",
    "- Web microframework. Think of it as simpler than Giraffe, more like Express for Node.\n",
    "- **Challenge:** Python decorators. Can we use attributes? "
   ]
  },
  {
   "cell_type": "markdown",
   "id": "8aac8228",
   "metadata": {
    "slideshow": {
     "slide_type": "slide"
    }
   },
   "source": [
    "# Use Case: Time Flies Like an Arrow!\n",
    "\n",
    "<img src=\"https://raw.githubusercontent.com/dbrattli/AsyncRx/main/logo/logo.png\" style=\"float:right; margin:auto\" width=\"200px\">\n",
    "\n",
    "\n",
    "- **Universal code**: What if we could re-use the same F# code for \n",
    "    - .NET, \n",
    "    - JavaScript \n",
    "    - ... and Python\n",
    "    \n",
    "- **Blast From the Past!** FableConf 2018 and Fable.Reaction\n",
    "- **AsyncRx** – Inspired by AsyncRx from System.Reactive by Bart de Smet\n",
    "\n",
    "> If we are careful, we can write universal code that runs anywhere. I.e lock free, ...\n"
   ]
  },
  {
   "cell_type": "markdown",
   "id": "6f2c70d9",
   "metadata": {
    "slideshow": {
     "slide_type": "slide"
    }
   },
   "source": [
    "# Use Case: BBC micro:bit\n",
    "\n",
    "<img src=\"https://upload.wikimedia.org/wikipedia/commons/4/4e/Micropython-logo.svg\" style=\"float:right; margin:auto\" width=\"200px\">\n",
    "\n",
    "- Uses MicroPython 🙀\n",
    "- **Challenge:** Flat file system\n",
    "- **Challenge:** No Fable.Library, so we need a micro library replacement, and a bundler\n",
    "- **Challenge:** This will be a MicroFSharp, but we can enable features like pattern matching etc"
   ]
  },
  {
   "cell_type": "markdown",
   "id": "39e953af",
   "metadata": {
    "slideshow": {
     "slide_type": "slide"
    }
   },
   "source": [
    "# Current Problems\n",
    "\n",
    "- Optional F# arguments, i.e `?name: str` \n",
    "- Named Python arguments, aka keyword only arguments\n",
    "- In Python you have positional (only) or keyword (only) arguments:\n",
    "\n",
    "```txt\n",
    "def f(pos1, pos2, /, pos_or_kwd, *, kwd1, kwd2):\n",
    "      -----------    ----------     ----------\n",
    "        |             |                  |\n",
    "        |        Positional or keyword   |\n",
    "        |                                - Keyword only\n",
    "         -- Positional only\n",
    "```\n",
    "\n",
    "- This is currently not handled in Fable (only positional name-less arguments)\n",
    "- PS: But this is something we want to have in F# as well, right?"
   ]
  },
  {
   "cell_type": "markdown",
   "id": "3760fc9b",
   "metadata": {
    "slideshow": {
     "slide_type": "slide"
    }
   },
   "source": [
    "# Final Remarks\n",
    "\n",
    "- Fable Python is happening! 🎉\n",
    "- Big thanks to Alfonso Garcia Caro and @ncave for Fable and for embraching this project 🤗\n",
    "- **Alpha!** Not ready for production! ⚠️\n",
    "- Still a long road ahead, but we made some progress 🚧\n",
    "  \n",
    "- Need help! \n",
    "    - Extending the Fable.Python type bindings\n",
    "    - Documentation, code samples and tutorials\n",
    "    - Expand Fable Python into Data Science\n",
    "\n",
    "> Please try it!\n",
    "https://github.com/dbrattli/Fable.Python"
   ]
  },
  {
   "cell_type": "code",
   "execution_count": 18,
   "id": "56e114df",
   "metadata": {
    "slideshow": {
     "slide_type": "slide"
    }
   },
   "outputs": [
    {
     "data": {
      "text/markdown": [
       "# Any questions?"
      ],
      "text/plain": [
       "<IPython.core.display.Markdown object>"
      ]
     },
     "execution_count": 18,
     "metadata": {},
     "output_type": "execute_result"
    }
   ],
   "source": [
    "open Fable.Core\n",
    "\n",
    "type IDisplay =\n",
    "    [<Emit(\"display.Markdown($1)\")>]\n",
    "    abstract Markdown : data: string -> unit\n",
    "\n",
    "[<Import(\"display\", \"IPython\")>]\n",
    "let display : IDisplay = nativeOnly\n",
    "\n",
    "let yna = \n",
    "    \"ynA\" \n",
    "    |> Array.ofSeq \n",
    "    |> Array.rev \n",
    "    |> Array.map string \n",
    "    |> String.concat \"\"\n",
    "    \n",
    "display.Markdown $\"\"\"# {yna} {let a = \"questions\" in a}?\"\"\""
   ]
  },
  {
   "cell_type": "code",
   "execution_count": 19,
   "id": "df7bde75",
   "metadata": {},
   "outputs": [
    {
     "data": {
      "text/html": [
       "<style>pre { line-height: 125%; }\n",
       "td.linenos .normal { color: inherit; background-color: transparent; padding-left: 5px; padding-right: 5px; }\n",
       "span.linenos { color: inherit; background-color: transparent; padding-left: 5px; padding-right: 5px; }\n",
       "td.linenos .special { color: #000000; background-color: #ffffc0; padding-left: 5px; padding-right: 5px; }\n",
       "span.linenos.special { color: #000000; background-color: #ffffc0; padding-left: 5px; padding-right: 5px; }\n",
       ".output_html .hll { background-color: #ffffcc }\n",
       ".output_html { background: #f8f8f8; }\n",
       ".output_html .c { color: #408080; font-style: italic } /* Comment */\n",
       ".output_html .err { border: 1px solid #FF0000 } /* Error */\n",
       ".output_html .k { color: #008000; font-weight: bold } /* Keyword */\n",
       ".output_html .o { color: #666666 } /* Operator */\n",
       ".output_html .ch { color: #408080; font-style: italic } /* Comment.Hashbang */\n",
       ".output_html .cm { color: #408080; font-style: italic } /* Comment.Multiline */\n",
       ".output_html .cp { color: #BC7A00 } /* Comment.Preproc */\n",
       ".output_html .cpf { color: #408080; font-style: italic } /* Comment.PreprocFile */\n",
       ".output_html .c1 { color: #408080; font-style: italic } /* Comment.Single */\n",
       ".output_html .cs { color: #408080; font-style: italic } /* Comment.Special */\n",
       ".output_html .gd { color: #A00000 } /* Generic.Deleted */\n",
       ".output_html .ge { font-style: italic } /* Generic.Emph */\n",
       ".output_html .gr { color: #FF0000 } /* Generic.Error */\n",
       ".output_html .gh { color: #000080; font-weight: bold } /* Generic.Heading */\n",
       ".output_html .gi { color: #00A000 } /* Generic.Inserted */\n",
       ".output_html .go { color: #888888 } /* Generic.Output */\n",
       ".output_html .gp { color: #000080; font-weight: bold } /* Generic.Prompt */\n",
       ".output_html .gs { font-weight: bold } /* Generic.Strong */\n",
       ".output_html .gu { color: #800080; font-weight: bold } /* Generic.Subheading */\n",
       ".output_html .gt { color: #0044DD } /* Generic.Traceback */\n",
       ".output_html .kc { color: #008000; font-weight: bold } /* Keyword.Constant */\n",
       ".output_html .kd { color: #008000; font-weight: bold } /* Keyword.Declaration */\n",
       ".output_html .kn { color: #008000; font-weight: bold } /* Keyword.Namespace */\n",
       ".output_html .kp { color: #008000 } /* Keyword.Pseudo */\n",
       ".output_html .kr { color: #008000; font-weight: bold } /* Keyword.Reserved */\n",
       ".output_html .kt { color: #B00040 } /* Keyword.Type */\n",
       ".output_html .m { color: #666666 } /* Literal.Number */\n",
       ".output_html .s { color: #BA2121 } /* Literal.String */\n",
       ".output_html .na { color: #7D9029 } /* Name.Attribute */\n",
       ".output_html .nb { color: #008000 } /* Name.Builtin */\n",
       ".output_html .nc { color: #0000FF; font-weight: bold } /* Name.Class */\n",
       ".output_html .no { color: #880000 } /* Name.Constant */\n",
       ".output_html .nd { color: #AA22FF } /* Name.Decorator */\n",
       ".output_html .ni { color: #999999; font-weight: bold } /* Name.Entity */\n",
       ".output_html .ne { color: #D2413A; font-weight: bold } /* Name.Exception */\n",
       ".output_html .nf { color: #0000FF } /* Name.Function */\n",
       ".output_html .nl { color: #A0A000 } /* Name.Label */\n",
       ".output_html .nn { color: #0000FF; font-weight: bold } /* Name.Namespace */\n",
       ".output_html .nt { color: #008000; font-weight: bold } /* Name.Tag */\n",
       ".output_html .nv { color: #19177C } /* Name.Variable */\n",
       ".output_html .ow { color: #AA22FF; font-weight: bold } /* Operator.Word */\n",
       ".output_html .w { color: #bbbbbb } /* Text.Whitespace */\n",
       ".output_html .mb { color: #666666 } /* Literal.Number.Bin */\n",
       ".output_html .mf { color: #666666 } /* Literal.Number.Float */\n",
       ".output_html .mh { color: #666666 } /* Literal.Number.Hex */\n",
       ".output_html .mi { color: #666666 } /* Literal.Number.Integer */\n",
       ".output_html .mo { color: #666666 } /* Literal.Number.Oct */\n",
       ".output_html .sa { color: #BA2121 } /* Literal.String.Affix */\n",
       ".output_html .sb { color: #BA2121 } /* Literal.String.Backtick */\n",
       ".output_html .sc { color: #BA2121 } /* Literal.String.Char */\n",
       ".output_html .dl { color: #BA2121 } /* Literal.String.Delimiter */\n",
       ".output_html .sd { color: #BA2121; font-style: italic } /* Literal.String.Doc */\n",
       ".output_html .s2 { color: #BA2121 } /* Literal.String.Double */\n",
       ".output_html .se { color: #BB6622; font-weight: bold } /* Literal.String.Escape */\n",
       ".output_html .sh { color: #BA2121 } /* Literal.String.Heredoc */\n",
       ".output_html .si { color: #BB6688; font-weight: bold } /* Literal.String.Interpol */\n",
       ".output_html .sx { color: #008000 } /* Literal.String.Other */\n",
       ".output_html .sr { color: #BB6688 } /* Literal.String.Regex */\n",
       ".output_html .s1 { color: #BA2121 } /* Literal.String.Single */\n",
       ".output_html .ss { color: #19177C } /* Literal.String.Symbol */\n",
       ".output_html .bp { color: #008000 } /* Name.Builtin.Pseudo */\n",
       ".output_html .fm { color: #0000FF } /* Name.Function.Magic */\n",
       ".output_html .vc { color: #19177C } /* Name.Variable.Class */\n",
       ".output_html .vg { color: #19177C } /* Name.Variable.Global */\n",
       ".output_html .vi { color: #19177C } /* Name.Variable.Instance */\n",
       ".output_html .vm { color: #19177C } /* Name.Variable.Magic */\n",
       ".output_html .il { color: #666666 } /* Literal.Number.Integer.Long */</style><div class=\"highlight\"><pre><span></span><span class=\"kn\">import</span> <span class=\"nn\">math</span>\n",
       "<span class=\"kn\">import</span> <span class=\"nn\">os</span>\n",
       "<span class=\"kn\">import</span> <span class=\"nn\">ast</span>\n",
       "<span class=\"kn\">from</span> <span class=\"nn\">fable_modules.fable_library.string</span> <span class=\"kn\">import</span> <span class=\"p\">(</span>\n",
       "    <span class=\"n\">to_console</span><span class=\"p\">,</span>\n",
       "    <span class=\"n\">printf</span><span class=\"p\">,</span>\n",
       "    <span class=\"n\">to_text</span><span class=\"p\">,</span>\n",
       "    <span class=\"n\">interpolate</span><span class=\"p\">,</span>\n",
       "    <span class=\"n\">join</span><span class=\"p\">,</span>\n",
       "<span class=\"p\">)</span>\n",
       "<span class=\"kn\">from</span> <span class=\"nn\">cognite.client</span> <span class=\"kn\">import</span> <span class=\"n\">CogniteClient</span>\n",
       "<span class=\"kn\">from</span> <span class=\"nn\">fable_modules.fable_library.option</span> <span class=\"kn\">import</span> <span class=\"n\">value</span> <span class=\"k\">as</span> <span class=\"n\">value_1</span>\n",
       "<span class=\"kn\">from</span> <span class=\"nn\">fable_modules.fable_library.long</span> <span class=\"kn\">import</span> <span class=\"n\">from_bits</span>\n",
       "<span class=\"kn\">from</span> <span class=\"nn\">fable_modules.fable_library.array</span> <span class=\"kn\">import</span> <span class=\"nb\">map</span><span class=\"p\">,</span> <span class=\"n\">reverse</span>\n",
       "<span class=\"kn\">from</span> <span class=\"nn\">IPython</span> <span class=\"kn\">import</span> <span class=\"n\">display</span>\n",
       "\n",
       "<span class=\"n\">a</span> <span class=\"o\">=</span> <span class=\"mi\">10</span>\n",
       "\n",
       "\n",
       "<span class=\"k\">def</span> <span class=\"nf\">add</span><span class=\"p\">(</span><span class=\"n\">a_1</span><span class=\"p\">,</span> <span class=\"n\">b</span><span class=\"p\">,</span> <span class=\"n\">cont</span><span class=\"p\">):</span>\n",
       "    <span class=\"k\">return</span> <span class=\"n\">cont</span><span class=\"p\">(</span><span class=\"n\">a_1</span> <span class=\"o\">+</span> <span class=\"n\">b</span><span class=\"p\">)</span>\n",
       "\n",
       "\n",
       "<span class=\"k\">def</span> <span class=\"nf\">square</span><span class=\"p\">(</span><span class=\"n\">x</span><span class=\"p\">,</span> <span class=\"n\">cont</span><span class=\"p\">):</span>\n",
       "    <span class=\"k\">return</span> <span class=\"n\">cont</span><span class=\"p\">(</span><span class=\"n\">x</span> <span class=\"o\">*</span> <span class=\"n\">x</span><span class=\"p\">)</span>\n",
       "\n",
       "\n",
       "<span class=\"k\">def</span> <span class=\"nf\">sqrt</span><span class=\"p\">(</span><span class=\"n\">x</span><span class=\"p\">,</span> <span class=\"n\">cont</span><span class=\"p\">):</span>\n",
       "    <span class=\"k\">return</span> <span class=\"n\">cont</span><span class=\"p\">(</span><span class=\"n\">math</span><span class=\"o\">.</span><span class=\"n\">sqrt</span><span class=\"p\">(</span><span class=\"n\">x</span><span class=\"p\">))</span>\n",
       "\n",
       "\n",
       "<span class=\"k\">def</span> <span class=\"nf\">pythagoras</span><span class=\"p\">(</span><span class=\"n\">a_1</span><span class=\"p\">,</span> <span class=\"n\">b</span><span class=\"p\">,</span> <span class=\"n\">cont</span><span class=\"p\">):</span>\n",
       "    <span class=\"n\">state</span> <span class=\"o\">=</span> <span class=\"mi\">0</span>\n",
       "\n",
       "    <span class=\"k\">def</span> <span class=\"nf\">arrow_58</span><span class=\"p\">(</span><span class=\"n\">aa</span><span class=\"p\">,</span> <span class=\"n\">a_1</span><span class=\"o\">=</span><span class=\"n\">a_1</span><span class=\"p\">,</span> <span class=\"n\">b</span><span class=\"o\">=</span><span class=\"n\">b</span><span class=\"p\">,</span> <span class=\"n\">cont</span><span class=\"o\">=</span><span class=\"n\">cont</span><span class=\"p\">):</span>\n",
       "        <span class=\"k\">def</span> <span class=\"nf\">arrow_57</span><span class=\"p\">(</span><span class=\"n\">bb</span><span class=\"p\">):</span>\n",
       "            <span class=\"k\">def</span> <span class=\"nf\">arrow_56</span><span class=\"p\">(</span><span class=\"n\">aabb</span><span class=\"p\">):</span>\n",
       "                <span class=\"k\">def</span> <span class=\"nf\">arrow_55</span><span class=\"p\">(</span><span class=\"n\">result</span><span class=\"p\">):</span>\n",
       "                    <span class=\"k\">nonlocal</span> <span class=\"n\">state</span>\n",
       "                    <span class=\"n\">to_console</span><span class=\"p\">(</span><span class=\"n\">printf</span><span class=\"p\">(</span><span class=\"s2\">&quot;result: %A&quot;</span><span class=\"p\">))(</span><span class=\"n\">result</span><span class=\"p\">)</span>\n",
       "                    <span class=\"n\">state</span> <span class=\"o\">=</span> <span class=\"mi\">42</span>\n",
       "                    <span class=\"k\">return</span> <span class=\"n\">cont</span><span class=\"p\">(</span><span class=\"n\">result</span><span class=\"p\">)</span>\n",
       "\n",
       "                <span class=\"k\">return</span> <span class=\"n\">sqrt</span><span class=\"p\">(</span><span class=\"n\">aabb</span><span class=\"p\">,</span> <span class=\"n\">arrow_55</span><span class=\"p\">)</span>\n",
       "\n",
       "            <span class=\"k\">return</span> <span class=\"n\">add</span><span class=\"p\">(</span><span class=\"n\">aa</span><span class=\"p\">,</span> <span class=\"n\">bb</span><span class=\"p\">,</span> <span class=\"n\">arrow_56</span><span class=\"p\">)</span>\n",
       "\n",
       "        <span class=\"k\">return</span> <span class=\"n\">square</span><span class=\"p\">(</span><span class=\"n\">b</span><span class=\"p\">,</span> <span class=\"n\">arrow_57</span><span class=\"p\">)</span>\n",
       "\n",
       "    <span class=\"k\">return</span> <span class=\"n\">square</span><span class=\"p\">(</span><span class=\"n\">a_1</span><span class=\"p\">,</span> <span class=\"n\">arrow_58</span><span class=\"p\">)</span>\n",
       "\n",
       "\n",
       "<span class=\"n\">q</span> <span class=\"o\">=</span> <span class=\"mi\">42</span>\n",
       "\n",
       "\n",
       "<span class=\"k\">def</span> <span class=\"nf\">handler</span><span class=\"p\">(</span><span class=\"n\">x</span><span class=\"p\">):</span>\n",
       "    <span class=\"k\">return</span> <span class=\"n\">to_text</span><span class=\"p\">(</span><span class=\"n\">interpolate</span><span class=\"p\">(</span><span class=\"s2\">&quot;Got: %P()&quot;</span><span class=\"p\">,</span> <span class=\"p\">[</span><span class=\"n\">x</span><span class=\"p\">]))</span>\n",
       "\n",
       "\n",
       "<span class=\"k\">def</span> <span class=\"nf\">api_key</span><span class=\"p\">():</span>\n",
       "    <span class=\"k\">return</span> <span class=\"n\">os</span><span class=\"o\">.</span><span class=\"n\">getenv</span><span class=\"p\">(</span><span class=\"s2\">&quot;API_KEY&quot;</span><span class=\"p\">)</span>\n",
       "\n",
       "\n",
       "<span class=\"n\">client</span> <span class=\"o\">=</span> <span class=\"n\">CogniteClient</span><span class=\"p\">(</span><span class=\"n\">value_1</span><span class=\"p\">(</span><span class=\"n\">api_key</span><span class=\"p\">()),</span> <span class=\"kc\">None</span><span class=\"p\">,</span> <span class=\"s2\">&quot;publicdata&quot;</span><span class=\"p\">,</span> <span class=\"s2\">&quot;Fable Python&quot;</span><span class=\"p\">)</span>\n",
       "\n",
       "<span class=\"n\">ts</span> <span class=\"o\">=</span> <span class=\"n\">client</span><span class=\"o\">.</span><span class=\"n\">time_series</span><span class=\"o\">.</span><span class=\"n\">retrieve</span><span class=\"p\">(</span><span class=\"n\">from_bits</span><span class=\"p\">(</span><span class=\"mi\">2465180838</span><span class=\"p\">,</span> <span class=\"mi\">1778412</span><span class=\"p\">,</span> <span class=\"kc\">False</span><span class=\"p\">))</span>\n",
       "\n",
       "<span class=\"n\">expr</span> <span class=\"o\">=</span> <span class=\"n\">ast</span><span class=\"o\">.</span><span class=\"n\">parse</span><span class=\"p\">(</span><span class=\"s2\">&quot;lambda x: x + 42&quot;</span><span class=\"p\">)</span>\n",
       "\n",
       "<span class=\"n\">record</span> <span class=\"o\">=</span> <span class=\"p\">{</span><span class=\"s2\">&quot;A&quot;</span><span class=\"p\">:</span> <span class=\"mi\">10</span><span class=\"p\">,</span> <span class=\"s2\">&quot;B&quot;</span><span class=\"p\">:</span> <span class=\"mi\">20</span><span class=\"p\">}</span>\n",
       "\n",
       "<span class=\"n\">yna</span> <span class=\"o\">=</span> <span class=\"n\">join</span><span class=\"p\">(</span><span class=\"s2\">&quot;&quot;</span><span class=\"p\">,</span> <span class=\"nb\">map</span><span class=\"p\">(</span><span class=\"k\">lambda</span> <span class=\"n\">value</span><span class=\"p\">:</span> <span class=\"n\">value</span><span class=\"p\">,</span> <span class=\"n\">reverse</span><span class=\"p\">(</span><span class=\"nb\">list</span><span class=\"p\">(</span><span class=\"nb\">list</span><span class=\"p\">(</span><span class=\"s2\">&quot;ynA&quot;</span><span class=\"p\">))),</span> <span class=\"kc\">None</span><span class=\"p\">))</span>\n",
       "\n",
       "<span class=\"n\">display</span><span class=\"o\">.</span><span class=\"n\">Markdown</span><span class=\"p\">((</span><span class=\"n\">to_text</span><span class=\"p\">(</span><span class=\"n\">interpolate</span><span class=\"p\">(</span><span class=\"s2\">&quot;# %P() %P()?&quot;</span><span class=\"p\">,</span> <span class=\"p\">[</span><span class=\"n\">yna</span><span class=\"p\">,</span> <span class=\"s2\">&quot;questions&quot;</span><span class=\"p\">]))))</span>\n",
       "</pre></div>\n"
      ],
      "text/plain": [
       "import math\n",
       "import os\n",
       "import ast\n",
       "from fable_modules.fable_library.string import (\n",
       "    to_console,\n",
       "    printf,\n",
       "    to_text,\n",
       "    interpolate,\n",
       "    join,\n",
       ")\n",
       "from cognite.client import CogniteClient\n",
       "from fable_modules.fable_library.option import value as value_1\n",
       "from fable_modules.fable_library.long import from_bits\n",
       "from fable_modules.fable_library.array import map, reverse\n",
       "from IPython import display\n",
       "\n",
       "a = 10\n",
       "\n",
       "\n",
       "def add(a_1, b, cont):\n",
       "    return cont(a_1 + b)\n",
       "\n",
       "\n",
       "def square(x, cont):\n",
       "    return cont(x * x)\n",
       "\n",
       "\n",
       "def sqrt(x, cont):\n",
       "    return cont(math.sqrt(x))\n",
       "\n",
       "\n",
       "def pythagoras(a_1, b, cont):\n",
       "    state = 0\n",
       "\n",
       "    def arrow_58(aa, a_1=a_1, b=b, cont=cont):\n",
       "        def arrow_57(bb):\n",
       "            def arrow_56(aabb):\n",
       "                def arrow_55(result):\n",
       "                    nonlocal state\n",
       "                    to_console(printf(\"result: %A\"))(result)\n",
       "                    state = 42\n",
       "                    return cont(result)\n",
       "\n",
       "                return sqrt(aabb, arrow_55)\n",
       "\n",
       "            return add(aa, bb, arrow_56)\n",
       "\n",
       "        return square(b, arrow_57)\n",
       "\n",
       "    return square(a_1, arrow_58)\n",
       "\n",
       "\n",
       "q = 42\n",
       "\n",
       "\n",
       "def handler(x):\n",
       "    return to_text(interpolate(\"Got: %P()\", [x]))\n",
       "\n",
       "\n",
       "def api_key():\n",
       "    return os.getenv(\"API_KEY\")\n",
       "\n",
       "\n",
       "client = CogniteClient(value_1(api_key()), None, \"publicdata\", \"Fable Python\")\n",
       "\n",
       "ts = client.time_series.retrieve(from_bits(2465180838, 1778412, False))\n",
       "\n",
       "expr = ast.parse(\"lambda x: x + 42\")\n",
       "\n",
       "record = {\"A\": 10, \"B\": 20}\n",
       "\n",
       "yna = join(\"\", map(lambda value: value, reverse(list(list(\"ynA\"))), None))\n",
       "\n",
       "display.Markdown((to_text(interpolate(\"# %P() %P()?\", [yna, \"questions\"]))))"
      ]
     },
     "metadata": {},
     "output_type": "display_data"
    }
   ],
   "source": [
    "%python"
   ]
  },
  {
   "cell_type": "code",
   "execution_count": null,
   "id": "e650f0d9",
   "metadata": {},
   "outputs": [],
   "source": []
  }
 ],
 "metadata": {
  "celltoolbar": "Slideshow",
  "kernelspec": {
   "display_name": "F# (Fable Python)",
   "language": "fsharp",
   "name": "fable-python"
  },
  "language_info": {
   "file_extension": ".fs",
   "mimetype": "text/x-fsharp",
   "name": "fsharp",
   "pygments_lexer": "fsharp"
  },
  "rise": {
   "scroll": true,
   "theme": "white",
   "transition": "fade"
  }
 },
 "nbformat": 4,
 "nbformat_minor": 5
}
