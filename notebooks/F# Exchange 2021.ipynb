{
 "cells": [
  {
   "cell_type": "markdown",
   "id": "b3ef92a1",
   "metadata": {
    "slideshow": {
     "slide_type": "slide"
    }
   },
   "source": [
    "<img src=\"https://fsharp.org/img/logo/fsharp256.png\" style=\"float:right; margin:auto\" width=\"200px\">\n",
    "\n",
    "# Fable Python\n",
    "\n",
    "|> F# ♥️ Python\n",
    "\n",
    "Dag Brattli  \n",
    "Principal Software Engineer  \n",
    "Cognite, https://cognite.com  \n",
    "\n",
    "<img src=\"https://fable.io/static/img/fable_logo.png\" style=\"float:left; margin:auto\" width=\"200px\">\n",
    "<img src=\"https://upload.wikimedia.org/wikipedia/commons/thumb/c/c3/Python-logo-notext.svg/1024px-Python-logo-notext.svg.png\" style=\"float:right; margin:auto\" width=\"200px\">"
   ]
  },
  {
   "cell_type": "markdown",
   "id": "5ada688b",
   "metadata": {
    "slideshow": {
     "slide_type": "slide"
    }
   },
   "source": [
    "# Who am I?\n",
    "\n",
    "- A Python programmer in love with F#\n",
    "- Programming Python since 1995\n",
    "    - [RxPY](https://github.com/ReactiveX/RxPY), Reactive Extensions for Python\n",
    "    - [Expression](https://github.com/cognitedata/expression), Pragmatic functional programming for Python inspired by F#\n",
    "- Programming F# since 2018\n",
    "    - [Oryx](https://github.com/cognitedata/oryx), Composable middleware for building web request handlers in F# \n",
    "    - [AsyncRx](https://github.com/dbrattli/asyncrx), for F# and Fable\n",
    "    - [Fable.Reaction](https://github.com/dbrattli/fable.reaction), AsyncRx for Elmish\n",
    "- Microsoft Alumni (FAST, Outlook, Office Division)\n",
    "- Work for Cognite, https://cognite.com"
   ]
  },
  {
   "cell_type": "markdown",
   "id": "acfee1e7",
   "metadata": {
    "slideshow": {
     "slide_type": "slide"
    }
   },
   "source": [
    "# Why?\n",
    "\n",
    "> ... on a quest to bridge the worlds of F# and Python 🌉\n",
    "\n",
    "- Python and F# look similar in many ways (no braces or semicolons)\n",
    "- F# have superior type system and type inference, combined with pipelining, pattern matching, computational expressions\n",
    "- I didn’t select this project, the project selected me ✨ It’s a fun weekend project! 😊 \n",
    "\n",
    "- Can we make F# a better Python? Could we reduce the friction of using F#?"
   ]
  },
  {
   "cell_type": "markdown",
   "id": "3de45712",
   "metadata": {
    "slideshow": {
     "slide_type": "slide"
    }
   },
   "source": [
    "# Python \n",
    "\n",
    "October 2021: Python ends C and Java's 20-year reign atop the TIOBE index\n",
    "\n",
    "<img src=\"https://www.techrepublic.com/a/hub/i/r/2021/10/11/9529e5f5-503a-4327-8f57-41bb631e880e/resize/770x/9be188fdd9d426b0afdc317849f07c54/tiobe-oct21.jpg\" style=\"float:right; margin:auto\" width=\"100%\">"
   ]
  },
  {
   "cell_type": "markdown",
   "id": "f59e97a1",
   "metadata": {
    "slideshow": {
     "slide_type": "slide"
    }
   },
   "source": [
    "# Python (the good parts)\n",
    "\n",
    "<img src=\"https://upload.wikimedia.org/wikipedia/commons/thumb/c/c3/Python-logo-notext.svg/1024px-Python-logo-notext.svg.png\" style=\"float:right; margin:auto\" width=\"100px\">\n",
    "\n",
    "- Python is the **top 1** popular language in the world! \n",
    "- Python is **easy to use**! The low friction makes Python a **popular choice** for **new developers**\n",
    "- Python is also the **de-facto** language for **data science** \n",
    "- SciPy stack consisting of libraries such as Pandas, NumPy, SciPy, Matplotlib, and Jupyter\n",
    "- Available on **any platform** (pre-installed)\n"
   ]
  },
  {
   "cell_type": "markdown",
   "id": "87fed5c6",
   "metadata": {
    "slideshow": {
     "slide_type": "slide"
    }
   },
   "source": [
    "# Python (the not so good parts)\n",
    "\n",
    "- ~10 times **slower** than most compiled languages. But in most cases it doesn't really matter\n",
    "- Dynamic typing makes it **hard to detect bugs, and refactor** code\n",
    "- Optional type hints looks ugly and messes up the language\n",
    "- Static **type checkers** like mypy and pyright **break your code** base with every new release\n",
    "- Eventually you spend all your time **fixing typing** issues 🤯"
   ]
  },
  {
   "cell_type": "markdown",
   "id": "85a0db33",
   "metadata": {
    "slideshow": {
     "slide_type": "slide"
    }
   },
   "source": [
    "# First Try: Expression\n",
    "\n",
    "- Pragmatic functional programming for Python inspired by F#\n",
    "- Python Library that gives you (a few) F# powers\n",
    "- Option, Result, List, Map and Seq modules with type hints\n",
    "- Map implementation ported from F#\n",
    "- Pipe function, MailboxProcessor, ...\n",
    "\n",
    "```py\n",
    "xs = Seq.of(1, 2, 3)\n",
    "ys = pipe(xs,\n",
    "    seq.map(lambda x: x * 100),\n",
    "    seq.filter(lambda x: x > 100),\n",
    "    seq.fold(lambda s, x: s + x, 0),\n",
    ")\n",
    "```\n",
    "\n",
    "https://github.com/cognitedata/Expression (138 stars)"
   ]
  },
  {
   "cell_type": "markdown",
   "id": "27de544a",
   "metadata": {
    "slideshow": {
     "slide_type": "slide"
    }
   },
   "source": [
    "# Second Try: Fable Python\n",
    "\n",
    "- Fable F# to Python transpiler (compiler)\n",
    "- Tries to follow [PEP-8](https://www.python.org/dev/peps/pep-0008/) style guide i.e `snake_case` method names\n",
    "- Fable.Library makes parts of .NET available\n",
    "- Fable.Python makes parts of Python available\n",
    "- Python package and module imports (absolute for Exe, relative for Library)\n",
    "- Currently produces Python code without type hints"
   ]
  },
  {
   "cell_type": "code",
   "execution_count": null,
   "id": "93b85976",
   "metadata": {},
   "outputs": [],
   "source": [
    "let a = Some 10\n",
    "match a with\n",
    "| Some value ->    \n",
    "    printfn $\"This is {value}\"\n",
    "| None -> ()"
   ]
  },
  {
   "cell_type": "code",
   "execution_count": null,
   "id": "38a22240",
   "metadata": {},
   "outputs": [],
   "source": [
    "%python"
   ]
  },
  {
   "cell_type": "markdown",
   "id": "7129ec2b",
   "metadata": {
    "slideshow": {
     "slide_type": "slide"
    }
   },
   "source": [
    "# Challenges\n",
    "\n",
    "Where to start? Translate Babel AST or Fable AST?\n",
    "- **Fable AST**: gives more control. Know the intent of the code\n",
    "- **Arrow functions**: aka multi-line lambdas\n",
    "- **Non-local**: variable scoping. Python have no `let` or `const`\n",
    "- **Tail-call**: TC optimization. Closures within loops\n",
    "- **Numbers**: integers vs floats – numerics inherited from Fable JS\n",
    "- **Imports**: Python packages and modules, relative and absolute imports\n",
    "- **Async**: F# Async or Python awaitables, coroutines Futures and Tasks."
   ]
  },
  {
   "cell_type": "markdown",
   "id": "2f8c4872",
   "metadata": {
    "slideshow": {
     "slide_type": "slide"
    }
   },
   "source": [
    " # Type Annotations\n",
    " \n",
    "Python types and F# types are not fully compatible (yet). Ref:\n",
    "https://github.com/microsoft/pyright/issues/1264\n",
    "\n",
    "F#:\n",
    "\n",
    "```fs\n",
    "let length(xs: 'T list) =\n",
    "    42\n",
    "```\n",
    "\n",
    "Python:\n",
    "\n",
    "```py\n",
    "def length(xs: List[_T]) -> int:\n",
    "    return 42\n",
    "```\n",
    "Gives error in [Pyright](https://github.com/microsoft/pyright) type checker (used by Pylance):\n",
    "\n",
    "```\n",
    "TypeVar \"_T\" appears only once in generic function signature Pylance(reportInvalidTypeVarUse) (type variable) _T\n",
    "```"
   ]
  },
  {
   "cell_type": "markdown",
   "id": "984767c0",
   "metadata": {
    "slideshow": {
     "slide_type": "slide"
    }
   },
   "source": [
    "# Data Type Mapping\n",
    "\n",
    "| F#         |   Python   | Comment                                       |\n",
    "|------------|:----------:|-----------------------------------------------|\n",
    "| List       |  List.fs   | F# immutable list                             |\n",
    "| Map        |   Map.fs   | F# immutable map                              |\n",
    "| Array      |   `list`   | TODO: Python has arrays for numeric types     |\n",
    "| Record     |  types.py  | Custom Record class. Replace with `dict`?     |\n",
    "| An. Record |   `dict`   |                                               |\n",
    "| Option     |   Erased   | F# `None` will be translated to Python `None` |\n",
    "| dict       |   `dict`   | Also used for Dictionary                      |\n",
    "| tuple      |  `tuple`   |                                               |\n",
    "| Decimal    | `decimal`  |                                               |\n",
    "| DateTime   | `datetime` |                                               |\n",
    "| string     |  `string`  |                                               |\n",
    "| char       |  `string`  |                                               |\n"
   ]
  },
  {
   "cell_type": "markdown",
   "id": "eb4073d8",
   "metadata": {
    "slideshow": {
     "slide_type": "slide"
    }
   },
   "source": [
    " # Interfaces and Protocols\n",
    " \n",
    "- .NET uses Interfaces. Python uses protocols (duck typing) or structural sub-typing\n",
    "- Trying to translate .NET interfaces to Python magic methods\n",
    "- We want the Python code to look like Python (not .NET)\n",
    " \n",
    "| .NET          |       Python       |\n",
    "|:--------------|:------------------:|\n",
    "| `IEquatable`  |      `__eq__`      |\n",
    "| `IEnumerator` |     `__next__`     |\n",
    "| `IEnumerable` |     `__iter__`     |\n",
    "| `IComparable` | `__lt__`+ `__eq__` |\n",
    "| `ToString`    |     `__str__`      |\n",
    "\n",
    "Calls to `x.ToString` will be translated to `str(x)`."
   ]
  },
  {
   "cell_type": "markdown",
   "id": "25b1b947",
   "metadata": {
    "slideshow": {
     "slide_type": "slide"
    }
   },
   "source": [
    "# Numerics\n",
    "\n",
    "| F#               | .NET    | Python |\n",
    "|:-----------------|:--------|--------|\n",
    "| bool             | Boolean | bool   |\n",
    "| int              | Int32   | int    |\n",
    "| byte             | Byte    | int    |\n",
    "| sbyte            | SByte   | int    |\n",
    "| int16            | Int16   | int    |\n",
    "| int64            | Int64   | int    |\n",
    "| uint16           | Uint16  | int    |\n",
    "| uint32           | Uint32  | int    |\n",
    "| uint64           | Uint64  | int    |\n",
    "| float / double   | Double  | float  |\n",
    "| float32 / single | Single  | float  |\n",
    "\n",
    "Python integers are unbounded. Max size limited by available memory. "
   ]
  },
  {
   "cell_type": "markdown",
   "id": "2d309c1b",
   "metadata": {
    "slideshow": {
     "slide_type": "slide"
    }
   },
   "source": [
    "# Status: 661 Passing Unit-tests\n",
    "\n",
    "Tests first run as F# using **xUnit**, then **pytest** after compiling to Python:\n",
    "\n",
    "```py\n",
    "test_arithmetic.py .......................\n",
    "test_array.py ............................................\n",
    "test_async.py .............\n",
    "test_comparison.py .............................\n",
    "test_custom_operators.py ..........\n",
    "test_date_time.py ........\n",
    "test_enum.py ......................\n",
    "test_enumerable.py ...\n",
    "test_fn.py ..\n",
    "test_list.py ......................................................................................\n",
    "test_loops.py ...\n",
    "test_map.py .......................................\n",
    "test_math.py .\n",
    "test_option.py ................................\n",
    "test_py_interop.py ....\n",
    "test_record_type.py ...........\n",
    "test_reflection.py .............\n",
    "test_result.py ......\n",
    "test_seq.py ...............................................................................................\n",
    "test_seq_expression.py .............\n",
    "test_set.py ...............................................\n",
    "test_string.py ......................................................................................................................\n",
    "test_sudoku.py .\n",
    "test_tail_call.py ................\n",
    "test_tuple_type.py ........\n",
    "test_union_type.py ..............\n",
    "\n",
    "========= 661 passed in 18.16s =========\n",
    "Build finished successfully\n",
    "```"
   ]
  },
  {
   "cell_type": "markdown",
   "id": "7c3fe5fb",
   "metadata": {
    "slideshow": {
     "slide_type": "slide"
    }
   },
   "source": [
    "# Use Case: Jupyter Notebook\n",
    "\n",
    "<img src=\"https://upload.wikimedia.org/wikipedia/commons/3/38/Jupyter_logo.svg\" style=\"float:right; margin:auto\" width=\"200px\">\n",
    "\n",
    "- What you are seeing right now!\n",
    "- Run on `IPythonKernel` and can do anything that Python can do e.g Widgets\n",
    "- **Challenge**: Jupyter submit cells. Fable compiles projects and files / modules\n",
    "- **TODO:** start F# compilation from within the kernel\n",
    "- **TODO:** completion using [FsAutoComplete](https://github.com/fsharp/FsAutoComplete)\n",
    "- **TODO:** NuGet handling using `#r \"nuget:...\"`\n",
    "\n",
    "https://github.com/dbrattli/Fable.Jupyter"
   ]
  },
  {
   "cell_type": "code",
   "execution_count": null,
   "id": "d70a521d",
   "metadata": {
    "slideshow": {
     "slide_type": "slide"
    }
   },
   "outputs": [],
   "source": [
    "// Example to create some nested functions\n",
    "let add(a, b, cont) =\n",
    "    cont(a + b)\n",
    "\n",
    "let square(x, cont) =\n",
    "    cont(x * x)\n",
    "\n",
    "let sqrt(x, cont) =\n",
    "    cont(sqrt(x))\n",
    "\n",
    "let pythagoras(a, b, cont) =\n",
    "    let mutable state = 0\n",
    "    square(a, (fun aa ->\n",
    "        square(b, (fun bb ->\n",
    "            add(aa, bb, (fun aabb ->\n",
    "                sqrt(aabb, (fun result ->\n",
    "                    printfn \"result: %A\" result\n",
    "                    state <- 42\n",
    "                    cont(result)\n",
    "                ))\n",
    "            ))\n",
    "        ))\n",
    "    ))\n",
    "\n",
    "pythagoras(2.0, 3.5, printfn \"The result is %f\")"
   ]
  },
  {
   "cell_type": "code",
   "execution_count": null,
   "id": "e205437d",
   "metadata": {
    "slideshow": {
     "slide_type": "-"
    }
   },
   "outputs": [],
   "source": [
    "%python"
   ]
  },
  {
   "cell_type": "code",
   "execution_count": null,
   "id": "268d3885",
   "metadata": {
    "scrolled": true,
    "slideshow": {
     "slide_type": "-"
    }
   },
   "outputs": [],
   "source": [
    "%fsharp"
   ]
  },
  {
   "cell_type": "markdown",
   "id": "631e2a04",
   "metadata": {
    "slideshow": {
     "slide_type": "slide"
    }
   },
   "source": [
    "## Shared Kernel\n",
    "\n",
    "- F# and Python running together in the same Jupyter kernel\n",
    "- Same kernel, same variables"
   ]
  },
  {
   "cell_type": "code",
   "execution_count": null,
   "id": "2e8d002f",
   "metadata": {
    "scrolled": true,
    "slideshow": {
     "slide_type": "-"
    }
   },
   "outputs": [],
   "source": [
    "%%python\n",
    "p = 20\n",
    "print(\"Python: \", p)"
   ]
  },
  {
   "cell_type": "code",
   "execution_count": null,
   "id": "cb66dabf",
   "metadata": {},
   "outputs": [],
   "source": [
    "open Fable.Core\n",
    "let [<Global>] p : int = nativeOnly\n",
    "\n",
    "printfn $\"From Python: {p}\""
   ]
  },
  {
   "cell_type": "code",
   "execution_count": null,
   "id": "f3a693fc",
   "metadata": {},
   "outputs": [],
   "source": [
    "// F#\n",
    "let q = 42"
   ]
  },
  {
   "cell_type": "code",
   "execution_count": null,
   "id": "999bff33",
   "metadata": {
    "scrolled": true
   },
   "outputs": [],
   "source": [
    "%%python\n",
    "print(q + 10)"
   ]
  },
  {
   "cell_type": "markdown",
   "id": "cfca033d",
   "metadata": {
    "slideshow": {
     "slide_type": "slide"
    }
   },
   "source": [
    "# Widgets"
   ]
  },
  {
   "cell_type": "code",
   "execution_count": null,
   "id": "ebc71bcd",
   "metadata": {
    "slideshow": {
     "slide_type": "-"
    }
   },
   "outputs": [],
   "source": [
    "open Fable.Python.IPyWidgets\n",
    "\n",
    "let handler(x: string) =\n",
    "    $\"Got: {x}\"\n",
    "\n",
    "widgets.interact(handler, x=\"test\") |> ignore"
   ]
  },
  {
   "cell_type": "code",
   "execution_count": null,
   "id": "f607b5f1",
   "metadata": {},
   "outputs": [],
   "source": [
    "open Fable.Python.IPyWidgets\n",
    "\n",
    "widgets.FloatSlider()"
   ]
  },
  {
   "cell_type": "markdown",
   "id": "4ac4ffaa",
   "metadata": {
    "slideshow": {
     "slide_type": "slide"
    }
   },
   "source": [
    "# Data Science\n",
    "\n",
    "Plot a time-series from Cognite Data Fusion (CDF)"
   ]
  },
  {
   "cell_type": "code",
   "execution_count": null,
   "id": "45ce5808",
   "metadata": {},
   "outputs": [],
   "source": [
    "open Fable.Core\n",
    "open Fable.Python\n",
    "\n",
    "open CogniteSdk\n",
    "open Os\n",
    "\n",
    "let apiKey () = os.getenv \"API_KEY\"\n",
    "let client = CogniteClient(clientName=\"Fable Python\", project=\"publicdata\", apiKey=apiKey().Value)\n",
    "\n",
    "let ts = client.time_series.retrieve(id=7638223843994790L)\n",
    "ts.plot(\"365d-ago\", \"now\", [|\"average\"|], \"1d\")"
   ]
  },
  {
   "cell_type": "markdown",
   "id": "e34ce26e",
   "metadata": {
    "slideshow": {
     "slide_type": "slide"
    }
   },
   "source": [
    "# Use Case: Using Python Standard Library\n",
    "\n",
    "- F# on Python environment without .NET\n",
    "- We need type bindings: [Fable.Python](https://github.com/dbrattli/Fable.Python)\n",
    "- Perhaps we want to automate the job using some tool \n",
    "- But tools produces code that is hard to use (friction)\n",
    "- Hand-crafting and PR’s is needed!\n",
    "- But this is not harder than what's lready done with e.g Python [typesched](https://github.com/python/typeshed)\n"
   ]
  },
  {
   "cell_type": "code",
   "execution_count": null,
   "id": "9b07b2b5",
   "metadata": {
    "slideshow": {
     "slide_type": "-"
    }
   },
   "outputs": [],
   "source": [
    "open Fable.Python.Builtins\n",
    "\n",
    "print($\"test: {1+2}\")"
   ]
  },
  {
   "cell_type": "code",
   "execution_count": null,
   "id": "20b2de19",
   "metadata": {},
   "outputs": [],
   "source": [
    "open Fable.Python.Ast\n",
    "let expr = ast.parse(\"lambda x: x + 42\")\n",
    "ast.unparse(expr)\n",
    "print(ast.dump(expr))"
   ]
  },
  {
   "cell_type": "code",
   "execution_count": null,
   "id": "aaff934d",
   "metadata": {},
   "outputs": [],
   "source": [
    "open Fable.Python.Json\n",
    "let record = {|A=10; B=20|}\n",
    "json.dumps(record)"
   ]
  },
  {
   "cell_type": "markdown",
   "id": "9ad93be7",
   "metadata": {
    "slideshow": {
     "slide_type": "slide"
    }
   },
   "source": [
    "# Use Case: Flask Web Server\n",
    "\n",
    "<img src=\"https://flask.palletsprojects.com/en/2.0.x/_images/flask-logo.png\" style=\"float:right; margin:auto\" width=\"200px\">\n",
    "\n",
    "- Web microframework. Think of it as simpler than Giraffe, more like Express for Node.\n",
    "- **Challenge:** Python decorators. Can we use attributes? "
   ]
  },
  {
   "cell_type": "markdown",
   "id": "8aac8228",
   "metadata": {
    "slideshow": {
     "slide_type": "slide"
    }
   },
   "source": [
    "# Use Case: Time Flies Like an Arrow!\n",
    "\n",
    "<img src=\"https://raw.githubusercontent.com/dbrattli/AsyncRx/main/logo/logo.png\" style=\"float:right; margin:auto\" width=\"200px\">\n",
    "\n",
    "\n",
    "- **Universal code**: What if we could re-use the same F# code for \n",
    "    - .NET, \n",
    "    - JavaScript \n",
    "    - ... and Python\n",
    "    \n",
    "- **Blast From the Past!** FableConf 2018 and Fable.Reaction\n",
    "- **AsyncRx** – Inspired by AsyncRx from System.Reactive by Bart de Smet\n",
    "\n",
    "> If we are careful, we can write universal code that runs anywhere. I.e lock free, ...\n"
   ]
  },
  {
   "cell_type": "markdown",
   "id": "6f2c70d9",
   "metadata": {
    "slideshow": {
     "slide_type": "slide"
    }
   },
   "source": [
    "# Use Case: BBC micro:bit\n",
    "\n",
    "<img src=\"https://upload.wikimedia.org/wikipedia/commons/4/4e/Micropython-logo.svg\" style=\"float:right; margin:auto\" width=\"200px\">\n",
    "\n",
    "- Uses MicroPython 🙀\n",
    "- **Challenge:** Flat file system\n",
    "- **Challenge:** No Fable.Library, so we need a micro library replacement, and a bundler\n",
    "- **Challenge:** This will be a MicroFSharp, but we can enable features like pattern matching etc"
   ]
  },
  {
   "cell_type": "markdown",
   "id": "39e953af",
   "metadata": {
    "slideshow": {
     "slide_type": "slide"
    }
   },
   "source": [
    "# Current Problems\n",
    "\n",
    "- Optional F# arguments, i.e `?name: str` \n",
    "- Named Python arguments, aka keyword only arguments\n",
    "- In Python you have positional (only) or keyword (only) arguments:\n",
    "\n",
    "```txt\n",
    "def f(pos1, pos2, /, pos_or_kwd, *, kwd1, kwd2):\n",
    "      -----------    ----------     ----------\n",
    "        |             |                  |\n",
    "        |        Positional or keyword   |\n",
    "        |                                - Keyword only\n",
    "         -- Positional only\n",
    "```\n",
    "\n",
    "- This is currently not handled in Fable (only positional name-less arguments)\n",
    "- PS: But this is something we want to have in F# as well, right?"
   ]
  },
  {
   "cell_type": "markdown",
   "id": "3760fc9b",
   "metadata": {
    "slideshow": {
     "slide_type": "slide"
    }
   },
   "source": [
    "# Final Remarks\n",
    "\n",
    "- Fable Python is happening! 🎉\n",
    "- Big thanks to Alfonso Garcia Caro and @ncave for Fable and for embraching this project 🤗\n",
    "- **Alpha!** Not ready for production! ⚠️\n",
    "- Still a long road ahead, but we made some progress 🚧\n",
    "  \n",
    "- Need help! \n",
    "    - Extending the Fable.Python type bindings\n",
    "    - Documentation, code samples and tutorials\n",
    "    - Expand Fable Python into Data Science\n",
    "\n",
    "> Please try it!\n",
    "https://github.com/dbrattli/Fable.Python"
   ]
  },
  {
   "cell_type": "code",
   "execution_count": null,
   "id": "56e114df",
   "metadata": {
    "slideshow": {
     "slide_type": "slide"
    }
   },
   "outputs": [],
   "source": [
    "open Fable.Core\n",
    "\n",
    "type IDisplay =\n",
    "    [<Emit(\"display.Markdown($1)\")>]\n",
    "    abstract Markdown : data: string -> unit\n",
    "\n",
    "[<Import(\"display\", \"IPython\")>]\n",
    "let display : IDisplay = nativeOnly\n",
    "\n",
    "let yna = \n",
    "    \"ynA\" \n",
    "    |> Array.ofSeq \n",
    "    |> Array.rev \n",
    "    |> Array.map string \n",
    "    |> String.concat \"\"\n",
    "    \n",
    "display.Markdown $\"\"\"# {yna} {let a = \"questions\" in a}?\"\"\""
   ]
  },
  {
   "cell_type": "code",
   "execution_count": null,
   "id": "df7bde75",
   "metadata": {},
   "outputs": [],
   "source": [
    "%python"
   ]
  },
  {
   "cell_type": "code",
   "execution_count": null,
   "id": "e650f0d9",
   "metadata": {},
   "outputs": [],
   "source": []
  }
 ],
 "metadata": {
  "celltoolbar": "Slideshow",
  "kernelspec": {
   "display_name": "F# (Fable Python)",
   "language": "fsharp",
   "name": "fable-python"
  },
  "language_info": {
   "file_extension": ".fs",
   "mimetype": "text/x-fsharp",
   "name": "fsharp",
   "pygments_lexer": "fsharp"
  },
  "rise": {
   "scroll": true,
   "theme": "white",
   "transition": "fade"
  }
 },
 "nbformat": 4,
 "nbformat_minor": 5
}
